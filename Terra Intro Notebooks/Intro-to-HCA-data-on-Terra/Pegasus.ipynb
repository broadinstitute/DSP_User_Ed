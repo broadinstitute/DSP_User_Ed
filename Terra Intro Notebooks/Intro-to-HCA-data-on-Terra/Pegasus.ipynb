{
 "cells": [
  {
   "cell_type": "markdown",
   "id": "cd0db105",
   "metadata": {},
   "source": [
    "# Single-cell Analysis on HCA Data using Pegasus\n",
    "\n",
    "**Author:** [Yiming Yang](https://github.com/yihming)<br />\n",
    "**Date:** 2021-05-12\n",
    "\n",
    "In this tutorial, we use Pegasus, a Python package for single-cell analysis and also part of Cumulus, to analyze HCA dataset on cloud environment via Terra Notebook.\n",
    "\n",
    "Starting from a human liver dataset from HCA project \"[Dissecting the human liver cellular landscape by single cell RNA-seq reveals novel intrahepatic monocyte/ macrophage populations](https://dev.singlecell.gi.ucsc.edu/explore/projects)\", we first downsample it with one specific donor, and then perform downstream analysis (quality control, dimension reduction, clustering, differential expression analysis, plotting, etc.).\n",
    "\n",
    "For more information on the data, please refer to [[S. MacParland, et. al., Nature communications, 2018]](https://www.nature.com/articles/s41467-018-06318-7)."
   ]
  },
  {
   "cell_type": "markdown",
   "id": "464749aa",
   "metadata": {},
   "source": [
    "## Create Cloud Environment\n",
    "\n",
    "To use Terra Notebook, you need to first create your own cloud environment on Terra. We've provided the prebuilt `Pegasuspy` environment which can be selected during the creation. It includes Python 3.7, Pegasus and its dependencies, as well as necessary tools to be used in this tutorial.\n",
    "\n",
    "See [here](https://pegasus.readthedocs.io/en/latest/terra_notebook.html) for a step-by-step tutorial on setting up your cloud environment for Pegasus.\n",
    "\n",
    "In this tutorial, we use Pegasus environment with 4 CPUs. Now import Pegasus and necessary packages for this tutorial:"
   ]
  },
  {
   "cell_type": "code",
   "execution_count": 1,
   "id": "925c7366",
   "metadata": {},
   "outputs": [],
   "source": [
    "import pegasus as pg"
   ]
  },
  {
   "cell_type": "markdown",
   "id": "9d3b792e",
   "metadata": {},
   "source": [
    "## Import Data\n",
    "\n",
    "We need to fetch the `loom` format data into the cloud environment. This can be done by using Google Cloud SDK tool `gsutil` from its storage on Google Cloud:"
   ]
  },
  {
   "cell_type": "code",
   "execution_count": 2,
   "id": "36d7dbee",
   "metadata": {},
   "outputs": [],
   "source": [
    "#!gsutil -m cp gs://broad-datarepo-terra-prod-hca2-bucket/d30e68f8-c826-4639-88f3-ae35f00d4185/57130684-c89c-4b27-9030-298f50cbc95c/sc-landscape-human-liver-10XV2.loom ."
   ]
  },
  {
   "cell_type": "markdown",
   "id": "49179895",
   "metadata": {},
   "source": [
    "Now load it into memory using `read_input` function:"
   ]
  },
  {
   "cell_type": "code",
   "execution_count": 3,
   "id": "3d0a5515",
   "metadata": {},
   "outputs": [
    {
     "name": "stdout",
     "output_type": "stream",
     "text": [
      "2021-05-12 22:51:11,054 - pegasusio.readwrite - INFO - loom file 'sc-landscape-human-liver-10XV2.loom' is loaded.\n",
      "2021-05-12 22:51:11,060 - pegasusio.readwrite - INFO - Function 'read_input' finished in 219.92s.\n"
     ]
    },
    {
     "data": {
      "text/plain": [
       "MultimodalData object with 1 UnimodalData: 'human-rna'\n",
       "    It currently binds to UnimodalData object human-rna\n",
       "\n",
       "UnimodalData object with n_obs x n_vars = 332497 x 58347\n",
       "    Genome: human; Modality: rna\n",
       "    It contains 1 matrix: 'X'\n",
       "    It currently binds to matrix 'X' as X\n",
       "\n",
       "    obs: 'antisense_reads', 'cell_barcode_fraction_bases_above_30_mean', 'cell_barcode_fraction_bases_above_30_variance', 'duplicate_reads', 'emptydrops_FDR', 'emptydrops_IsCell', 'emptydrops_Limited', 'emptydrops_LogProb', 'emptydrops_PValue', 'emptydrops_Total', 'fragments_per_molecule', 'fragments_with_single_read_evidence', 'genes_detected_multiple_observations', 'genomic_read_quality_mean', 'genomic_read_quality_variance', 'genomic_reads_fraction_bases_quality_above_30_mean', 'genomic_reads_fraction_bases_quality_above_30_variance', 'input_id', 'molecule_barcode_fraction_bases_above_30_mean', 'molecule_barcode_fraction_bases_above_30_variance', 'molecules_with_single_read_evidence', 'n_fragments', 'n_genes', 'n_mitochondrial_genes', 'n_mitochondrial_molecules', 'n_molecules', 'n_reads', 'noise_reads', 'pct_mitochondrial_molecules', 'perfect_cell_barcodes', 'perfect_molecule_barcodes', 'reads_mapped_exonic', 'reads_mapped_intergenic', 'reads_mapped_intronic', 'reads_mapped_multiple', 'reads_mapped_too_many_loci', 'reads_mapped_uniquely', 'reads_mapped_utr', 'reads_per_fragment', 'reads_unmapped', 'spliced_reads', 'Channel'\n",
       "    var: 'antisense_reads', 'duplicate_reads', 'featureid', 'fragments_per_molecule', 'fragments_with_single_read_evidence', 'genomic_read_quality_mean', 'genomic_read_quality_variance', 'genomic_reads_fraction_bases_quality_above_30_mean', 'genomic_reads_fraction_bases_quality_above_30_variance', 'molecule_barcode_fraction_bases_above_30_mean', 'molecule_barcode_fraction_bases_above_30_variance', 'molecules_with_single_read_evidence', 'n_fragments', 'n_molecules', 'n_reads', 'noise_reads', 'number_cells_detected_multiple', 'number_cells_expressing', 'perfect_molecule_barcodes', 'reads_mapped_exonic', 'reads_mapped_intronic', 'reads_mapped_multiple', 'reads_mapped_uniquely', 'reads_mapped_utr', 'reads_per_fragment', 'reads_per_molecule', 'spliced_reads'\n",
       "    obsm: \n",
       "    varm: \n",
       "    uns: 'CreationDate', 'LOOM_SPEC_VERSION', 'donor_organism.genus_species', 'expression_data_type', 'input_id', 'input_id_metadata_field', 'input_name', 'input_name_metadata_field', 'library_preparation_protocol.library_construction_approach', 'optimus_output_schema_version', 'pipeline_version', 'project.project_core.project_name', 'project.provenance.document_id', 'specimen_from_organism.organ', 'genome', 'modality'"
      ]
     },
     "execution_count": 3,
     "metadata": {},
     "output_type": "execute_result"
    }
   ],
   "source": [
    "data = pg.read_input(\"sc-landscape-human-liver-10XV2.loom\", genome='human')\n",
    "data"
   ]
  },
  {
   "cell_type": "markdown",
   "id": "32efbccc",
   "metadata": {},
   "source": [
    "Pegasus `read_input` function provides a unified API for loading single-cell count matrix of different format: Loom, 10X HDF5, H5AD, Zarr format, CSV, TSV, etc. See [here](https://pegasus.readthedocs.io/en/stable/api/pegasus.read_input.html#pegasus.read_input) for detailed documentation of this function.\n",
    "\n",
    "Optionally, you can manually set genome name of the count matrix in `read_input` (as is done here) in case the file itself doesn't contain this information. Otherwise, Pegasus will infer it from the file.\n",
    "\n",
    "The count matrix is managed as a UnimodalData object defined in [PegasusIO](https://pegasusio.readthedocs.io/) module, and users can manipulate the data from top level via MultimodalData structure, which can contain multiple UnimodalData objects as members.\n",
    "\n",
    "UnimodalData has the following structure:\n",
    "\n",
    "<img src=\"https://raw.githubusercontent.com/klarman-cell-observatory/pegasus/master/notebooks/unidata.png\" width=500 />\n",
    "\n",
    "It has 6 major parts:\n",
    "\n",
    "* Raw count matrix: data.X, a [Scipy sparse matrix](https://docs.scipy.org/doc/scipy/reference/generated/scipy.sparse.csr_matrix.html) (sometimes can be a dense matrix), with rows the cell barcodes, columns the genes/features:"
   ]
  },
  {
   "cell_type": "code",
   "execution_count": 4,
   "id": "87f2930d",
   "metadata": {},
   "outputs": [
    {
     "data": {
      "text/plain": [
       "<332497x58347 sparse matrix of type '<class 'numpy.uint32'>'\n",
       "\twith 41577918 stored elements in Compressed Sparse Row format>"
      ]
     },
     "execution_count": 4,
     "metadata": {},
     "output_type": "execute_result"
    }
   ],
   "source": [
    "data.X"
   ]
  },
  {
   "cell_type": "markdown",
   "id": "cc91c793",
   "metadata": {},
   "source": [
    "This dataset contains $332,497$ barcodes and $58,347$ genes.\n",
    "\n",
    "* Cell barcode attributes: `data.obs`, a [Pandas data frame](https://pandas.pydata.org/pandas-docs/stable/reference/api/pandas.DataFrame.html) with barcode as the index. In this case, `input_id` stores the donor information from which the cell comes from:"
   ]
  },
  {
   "cell_type": "code",
   "execution_count": 5,
   "id": "f2696a2e",
   "metadata": {},
   "outputs": [
    {
     "data": {
      "text/html": [
       "<div>\n",
       "<style scoped>\n",
       "    .dataframe tbody tr th:only-of-type {\n",
       "        vertical-align: middle;\n",
       "    }\n",
       "\n",
       "    .dataframe tbody tr th {\n",
       "        vertical-align: top;\n",
       "    }\n",
       "\n",
       "    .dataframe thead th {\n",
       "        text-align: right;\n",
       "    }\n",
       "</style>\n",
       "<table border=\"1\" class=\"dataframe\">\n",
       "  <thead>\n",
       "    <tr style=\"text-align: right;\">\n",
       "      <th></th>\n",
       "      <th>antisense_reads</th>\n",
       "      <th>cell_barcode_fraction_bases_above_30_mean</th>\n",
       "      <th>cell_barcode_fraction_bases_above_30_variance</th>\n",
       "      <th>duplicate_reads</th>\n",
       "      <th>emptydrops_FDR</th>\n",
       "      <th>emptydrops_IsCell</th>\n",
       "      <th>emptydrops_Limited</th>\n",
       "      <th>emptydrops_LogProb</th>\n",
       "      <th>emptydrops_PValue</th>\n",
       "      <th>emptydrops_Total</th>\n",
       "      <th>...</th>\n",
       "      <th>reads_mapped_intergenic</th>\n",
       "      <th>reads_mapped_intronic</th>\n",
       "      <th>reads_mapped_multiple</th>\n",
       "      <th>reads_mapped_too_many_loci</th>\n",
       "      <th>reads_mapped_uniquely</th>\n",
       "      <th>reads_mapped_utr</th>\n",
       "      <th>reads_per_fragment</th>\n",
       "      <th>reads_unmapped</th>\n",
       "      <th>spliced_reads</th>\n",
       "      <th>Channel</th>\n",
       "    </tr>\n",
       "    <tr>\n",
       "      <th>barcodekey</th>\n",
       "      <th></th>\n",
       "      <th></th>\n",
       "      <th></th>\n",
       "      <th></th>\n",
       "      <th></th>\n",
       "      <th></th>\n",
       "      <th></th>\n",
       "      <th></th>\n",
       "      <th></th>\n",
       "      <th></th>\n",
       "      <th></th>\n",
       "      <th></th>\n",
       "      <th></th>\n",
       "      <th></th>\n",
       "      <th></th>\n",
       "      <th></th>\n",
       "      <th></th>\n",
       "      <th></th>\n",
       "      <th></th>\n",
       "      <th></th>\n",
       "      <th></th>\n",
       "    </tr>\n",
       "  </thead>\n",
       "  <tbody>\n",
       "    <tr>\n",
       "      <th>0-TGCGTGGTCTGGCGTG</th>\n",
       "      <td>0</td>\n",
       "      <td>0.950797</td>\n",
       "      <td>0.014357</td>\n",
       "      <td>0</td>\n",
       "      <td>0.0</td>\n",
       "      <td>1</td>\n",
       "      <td>0</td>\n",
       "      <td>-912.613952</td>\n",
       "      <td>1.0000</td>\n",
       "      <td>2508</td>\n",
       "      <td>...</td>\n",
       "      <td>367</td>\n",
       "      <td>209</td>\n",
       "      <td>4512</td>\n",
       "      <td>0</td>\n",
       "      <td>14739</td>\n",
       "      <td>70</td>\n",
       "      <td>1.310282</td>\n",
       "      <td>871</td>\n",
       "      <td>118</td>\n",
       "      <td>0</td>\n",
       "    </tr>\n",
       "    <tr>\n",
       "      <th>0-AAGCCGCGTCCAGTGC</th>\n",
       "      <td>0</td>\n",
       "      <td>0.959277</td>\n",
       "      <td>0.011117</td>\n",
       "      <td>0</td>\n",
       "      <td>0.0</td>\n",
       "      <td>1</td>\n",
       "      <td>0</td>\n",
       "      <td>-441.497519</td>\n",
       "      <td>0.0041</td>\n",
       "      <td>272</td>\n",
       "      <td>...</td>\n",
       "      <td>233</td>\n",
       "      <td>117</td>\n",
       "      <td>577</td>\n",
       "      <td>0</td>\n",
       "      <td>1536</td>\n",
       "      <td>115</td>\n",
       "      <td>1.385976</td>\n",
       "      <td>160</td>\n",
       "      <td>117</td>\n",
       "      <td>0</td>\n",
       "    </tr>\n",
       "    <tr>\n",
       "      <th>0-GCGCCAAAGCCCGAAA</th>\n",
       "      <td>0</td>\n",
       "      <td>0.955974</td>\n",
       "      <td>0.013103</td>\n",
       "      <td>0</td>\n",
       "      <td>0.0</td>\n",
       "      <td>1</td>\n",
       "      <td>0</td>\n",
       "      <td>-355.021727</td>\n",
       "      <td>0.9985</td>\n",
       "      <td>403</td>\n",
       "      <td>...</td>\n",
       "      <td>108</td>\n",
       "      <td>42</td>\n",
       "      <td>689</td>\n",
       "      <td>0</td>\n",
       "      <td>2616</td>\n",
       "      <td>50</td>\n",
       "      <td>1.317718</td>\n",
       "      <td>183</td>\n",
       "      <td>129</td>\n",
       "      <td>0</td>\n",
       "    </tr>\n",
       "    <tr>\n",
       "      <th>0-TAGGCATAGCATCATC</th>\n",
       "      <td>0</td>\n",
       "      <td>0.961083</td>\n",
       "      <td>0.011502</td>\n",
       "      <td>0</td>\n",
       "      <td>0.0</td>\n",
       "      <td>1</td>\n",
       "      <td>0</td>\n",
       "      <td>-1332.048981</td>\n",
       "      <td>1.0000</td>\n",
       "      <td>5160</td>\n",
       "      <td>...</td>\n",
       "      <td>1000</td>\n",
       "      <td>423</td>\n",
       "      <td>10520</td>\n",
       "      <td>0</td>\n",
       "      <td>34699</td>\n",
       "      <td>185</td>\n",
       "      <td>1.334428</td>\n",
       "      <td>1518</td>\n",
       "      <td>235</td>\n",
       "      <td>0</td>\n",
       "    </tr>\n",
       "    <tr>\n",
       "      <th>0-CCGGGATAGCTAGTGG</th>\n",
       "      <td>0</td>\n",
       "      <td>0.956168</td>\n",
       "      <td>0.012790</td>\n",
       "      <td>0</td>\n",
       "      <td>0.0</td>\n",
       "      <td>1</td>\n",
       "      <td>1</td>\n",
       "      <td>-4475.000957</td>\n",
       "      <td>0.0001</td>\n",
       "      <td>1945</td>\n",
       "      <td>...</td>\n",
       "      <td>1887</td>\n",
       "      <td>9129</td>\n",
       "      <td>6139</td>\n",
       "      <td>0</td>\n",
       "      <td>22871</td>\n",
       "      <td>2826</td>\n",
       "      <td>1.270158</td>\n",
       "      <td>1061</td>\n",
       "      <td>4389</td>\n",
       "      <td>0</td>\n",
       "    </tr>\n",
       "  </tbody>\n",
       "</table>\n",
       "<p>5 rows × 42 columns</p>\n",
       "</div>"
      ],
      "text/plain": [
       "                    antisense_reads  \\\n",
       "barcodekey                            \n",
       "0-TGCGTGGTCTGGCGTG                0   \n",
       "0-AAGCCGCGTCCAGTGC                0   \n",
       "0-GCGCCAAAGCCCGAAA                0   \n",
       "0-TAGGCATAGCATCATC                0   \n",
       "0-CCGGGATAGCTAGTGG                0   \n",
       "\n",
       "                    cell_barcode_fraction_bases_above_30_mean  \\\n",
       "barcodekey                                                      \n",
       "0-TGCGTGGTCTGGCGTG                                   0.950797   \n",
       "0-AAGCCGCGTCCAGTGC                                   0.959277   \n",
       "0-GCGCCAAAGCCCGAAA                                   0.955974   \n",
       "0-TAGGCATAGCATCATC                                   0.961083   \n",
       "0-CCGGGATAGCTAGTGG                                   0.956168   \n",
       "\n",
       "                    cell_barcode_fraction_bases_above_30_variance  \\\n",
       "barcodekey                                                          \n",
       "0-TGCGTGGTCTGGCGTG                                       0.014357   \n",
       "0-AAGCCGCGTCCAGTGC                                       0.011117   \n",
       "0-GCGCCAAAGCCCGAAA                                       0.013103   \n",
       "0-TAGGCATAGCATCATC                                       0.011502   \n",
       "0-CCGGGATAGCTAGTGG                                       0.012790   \n",
       "\n",
       "                    duplicate_reads  emptydrops_FDR  emptydrops_IsCell  \\\n",
       "barcodekey                                                               \n",
       "0-TGCGTGGTCTGGCGTG                0             0.0                  1   \n",
       "0-AAGCCGCGTCCAGTGC                0             0.0                  1   \n",
       "0-GCGCCAAAGCCCGAAA                0             0.0                  1   \n",
       "0-TAGGCATAGCATCATC                0             0.0                  1   \n",
       "0-CCGGGATAGCTAGTGG                0             0.0                  1   \n",
       "\n",
       "                    emptydrops_Limited  emptydrops_LogProb  emptydrops_PValue  \\\n",
       "barcodekey                                                                      \n",
       "0-TGCGTGGTCTGGCGTG                   0         -912.613952             1.0000   \n",
       "0-AAGCCGCGTCCAGTGC                   0         -441.497519             0.0041   \n",
       "0-GCGCCAAAGCCCGAAA                   0         -355.021727             0.9985   \n",
       "0-TAGGCATAGCATCATC                   0        -1332.048981             1.0000   \n",
       "0-CCGGGATAGCTAGTGG                   1        -4475.000957             0.0001   \n",
       "\n",
       "                    emptydrops_Total  ...  reads_mapped_intergenic  \\\n",
       "barcodekey                            ...                            \n",
       "0-TGCGTGGTCTGGCGTG              2508  ...                      367   \n",
       "0-AAGCCGCGTCCAGTGC               272  ...                      233   \n",
       "0-GCGCCAAAGCCCGAAA               403  ...                      108   \n",
       "0-TAGGCATAGCATCATC              5160  ...                     1000   \n",
       "0-CCGGGATAGCTAGTGG              1945  ...                     1887   \n",
       "\n",
       "                    reads_mapped_intronic  reads_mapped_multiple  \\\n",
       "barcodekey                                                         \n",
       "0-TGCGTGGTCTGGCGTG                    209                   4512   \n",
       "0-AAGCCGCGTCCAGTGC                    117                    577   \n",
       "0-GCGCCAAAGCCCGAAA                     42                    689   \n",
       "0-TAGGCATAGCATCATC                    423                  10520   \n",
       "0-CCGGGATAGCTAGTGG                   9129                   6139   \n",
       "\n",
       "                    reads_mapped_too_many_loci  reads_mapped_uniquely  \\\n",
       "barcodekey                                                              \n",
       "0-TGCGTGGTCTGGCGTG                           0                  14739   \n",
       "0-AAGCCGCGTCCAGTGC                           0                   1536   \n",
       "0-GCGCCAAAGCCCGAAA                           0                   2616   \n",
       "0-TAGGCATAGCATCATC                           0                  34699   \n",
       "0-CCGGGATAGCTAGTGG                           0                  22871   \n",
       "\n",
       "                    reads_mapped_utr  reads_per_fragment reads_unmapped  \\\n",
       "barcodekey                                                                \n",
       "0-TGCGTGGTCTGGCGTG                70            1.310282            871   \n",
       "0-AAGCCGCGTCCAGTGC               115            1.385976            160   \n",
       "0-GCGCCAAAGCCCGAAA                50            1.317718            183   \n",
       "0-TAGGCATAGCATCATC               185            1.334428           1518   \n",
       "0-CCGGGATAGCTAGTGG              2826            1.270158           1061   \n",
       "\n",
       "                    spliced_reads  Channel  \n",
       "barcodekey                                  \n",
       "0-TGCGTGGTCTGGCGTG            118        0  \n",
       "0-AAGCCGCGTCCAGTGC            117        0  \n",
       "0-GCGCCAAAGCCCGAAA            129        0  \n",
       "0-TAGGCATAGCATCATC            235        0  \n",
       "0-CCGGGATAGCTAGTGG           4389        0  \n",
       "\n",
       "[5 rows x 42 columns]"
      ]
     },
     "execution_count": 5,
     "metadata": {},
     "output_type": "execute_result"
    }
   ],
   "source": [
    "data.obs.head()"
   ]
  },
  {
   "cell_type": "code",
   "execution_count": 6,
   "id": "56e2041c",
   "metadata": {},
   "outputs": [
    {
     "data": {
      "text/plain": [
       "02f207ae-217b-42ce-9733-c03e61541fcc    87538\n",
       "d1782f60-75d3-41a2-a6d5-8218daab2e31    73823\n",
       "2b965070-e2c5-4c26-92c9-c94483f1a00c    66422\n",
       "42998245-4c46-488e-ad04-14550074d6d4    64932\n",
       "3f9058b9-4243-4ef1-a345-857a5b9ff78e    39782\n",
       "Name: input_id, dtype: int64"
      ]
     },
     "execution_count": 6,
     "metadata": {},
     "output_type": "execute_result"
    }
   ],
   "source": [
    "data.obs['input_id'].value_counts()"
   ]
  },
  {
   "cell_type": "markdown",
   "id": "037eedb0",
   "metadata": {},
   "source": [
    "In addition, some cell barcode attributes are important metrics, including `emptydrops_IsCell` (measures if a cell is an empty droplet, as indicated by a 0), `pct_mitochondrial_molecules` (the percent of cell's mitochondrial molecules), and `n_genes` (the number of genes expressed in the cell).\n",
    "\n",
    "* Gene attributes: data.var, also a Pandas data frame, with gene name as the index. Besides, `featureid` stores each gene's Ensembl ID:"
   ]
  },
  {
   "cell_type": "code",
   "execution_count": 7,
   "id": "c5525ac7",
   "metadata": {},
   "outputs": [
    {
     "data": {
      "text/html": [
       "<div>\n",
       "<style scoped>\n",
       "    .dataframe tbody tr th:only-of-type {\n",
       "        vertical-align: middle;\n",
       "    }\n",
       "\n",
       "    .dataframe tbody tr th {\n",
       "        vertical-align: top;\n",
       "    }\n",
       "\n",
       "    .dataframe thead th {\n",
       "        text-align: right;\n",
       "    }\n",
       "</style>\n",
       "<table border=\"1\" class=\"dataframe\">\n",
       "  <thead>\n",
       "    <tr style=\"text-align: right;\">\n",
       "      <th></th>\n",
       "      <th>antisense_reads</th>\n",
       "      <th>duplicate_reads</th>\n",
       "      <th>featureid</th>\n",
       "      <th>fragments_per_molecule</th>\n",
       "      <th>fragments_with_single_read_evidence</th>\n",
       "      <th>genomic_read_quality_mean</th>\n",
       "      <th>genomic_read_quality_variance</th>\n",
       "      <th>genomic_reads_fraction_bases_quality_above_30_mean</th>\n",
       "      <th>genomic_reads_fraction_bases_quality_above_30_variance</th>\n",
       "      <th>molecule_barcode_fraction_bases_above_30_mean</th>\n",
       "      <th>...</th>\n",
       "      <th>number_cells_expressing</th>\n",
       "      <th>perfect_molecule_barcodes</th>\n",
       "      <th>reads_mapped_exonic</th>\n",
       "      <th>reads_mapped_intronic</th>\n",
       "      <th>reads_mapped_multiple</th>\n",
       "      <th>reads_mapped_uniquely</th>\n",
       "      <th>reads_mapped_utr</th>\n",
       "      <th>reads_per_fragment</th>\n",
       "      <th>reads_per_molecule</th>\n",
       "      <th>spliced_reads</th>\n",
       "    </tr>\n",
       "    <tr>\n",
       "      <th>featurekey</th>\n",
       "      <th></th>\n",
       "      <th></th>\n",
       "      <th></th>\n",
       "      <th></th>\n",
       "      <th></th>\n",
       "      <th></th>\n",
       "      <th></th>\n",
       "      <th></th>\n",
       "      <th></th>\n",
       "      <th></th>\n",
       "      <th></th>\n",
       "      <th></th>\n",
       "      <th></th>\n",
       "      <th></th>\n",
       "      <th></th>\n",
       "      <th></th>\n",
       "      <th></th>\n",
       "      <th></th>\n",
       "      <th></th>\n",
       "      <th></th>\n",
       "      <th></th>\n",
       "    </tr>\n",
       "  </thead>\n",
       "  <tbody>\n",
       "    <tr>\n",
       "      <th>DDX11L1</th>\n",
       "      <td>0.0</td>\n",
       "      <td>0.0</td>\n",
       "      <td>ENSG00000223972.5</td>\n",
       "      <td>1.000000</td>\n",
       "      <td>1.0</td>\n",
       "      <td>24.602041</td>\n",
       "      <td>NaN</td>\n",
       "      <td>0.306122</td>\n",
       "      <td>NaN</td>\n",
       "      <td>1.000000</td>\n",
       "      <td>...</td>\n",
       "      <td>1.0</td>\n",
       "      <td>1.0</td>\n",
       "      <td>1.0</td>\n",
       "      <td>0.0</td>\n",
       "      <td>1.0</td>\n",
       "      <td>0.0</td>\n",
       "      <td>0.0</td>\n",
       "      <td>1.000000</td>\n",
       "      <td>1.000000</td>\n",
       "      <td>0.0</td>\n",
       "    </tr>\n",
       "    <tr>\n",
       "      <th>WASH7P</th>\n",
       "      <td>0.0</td>\n",
       "      <td>0.0</td>\n",
       "      <td>ENSG00000227232.5</td>\n",
       "      <td>1.805882</td>\n",
       "      <td>506.0</td>\n",
       "      <td>33.015957</td>\n",
       "      <td>22.889387</td>\n",
       "      <td>0.779228</td>\n",
       "      <td>0.057938</td>\n",
       "      <td>0.971467</td>\n",
       "      <td>...</td>\n",
       "      <td>321.0</td>\n",
       "      <td>721.0</td>\n",
       "      <td>743.0</td>\n",
       "      <td>0.0</td>\n",
       "      <td>743.0</td>\n",
       "      <td>0.0</td>\n",
       "      <td>0.0</td>\n",
       "      <td>1.210098</td>\n",
       "      <td>2.185294</td>\n",
       "      <td>23.0</td>\n",
       "    </tr>\n",
       "    <tr>\n",
       "      <th>MIR6859-1</th>\n",
       "      <td>0.0</td>\n",
       "      <td>0.0</td>\n",
       "      <td>ENSG00000278267.1</td>\n",
       "      <td>1.000000</td>\n",
       "      <td>1.0</td>\n",
       "      <td>24.816326</td>\n",
       "      <td>NaN</td>\n",
       "      <td>0.367347</td>\n",
       "      <td>NaN</td>\n",
       "      <td>0.800000</td>\n",
       "      <td>...</td>\n",
       "      <td>1.0</td>\n",
       "      <td>1.0</td>\n",
       "      <td>1.0</td>\n",
       "      <td>0.0</td>\n",
       "      <td>0.0</td>\n",
       "      <td>1.0</td>\n",
       "      <td>0.0</td>\n",
       "      <td>1.000000</td>\n",
       "      <td>1.000000</td>\n",
       "      <td>0.0</td>\n",
       "    </tr>\n",
       "    <tr>\n",
       "      <th>MIR1302-2HG</th>\n",
       "      <td>0.0</td>\n",
       "      <td>0.0</td>\n",
       "      <td>ENSG00000243485.5</td>\n",
       "      <td>3.142857</td>\n",
       "      <td>19.0</td>\n",
       "      <td>34.615662</td>\n",
       "      <td>NaN</td>\n",
       "      <td>0.851380</td>\n",
       "      <td>NaN</td>\n",
       "      <td>0.974074</td>\n",
       "      <td>...</td>\n",
       "      <td>7.0</td>\n",
       "      <td>26.0</td>\n",
       "      <td>27.0</td>\n",
       "      <td>0.0</td>\n",
       "      <td>27.0</td>\n",
       "      <td>0.0</td>\n",
       "      <td>0.0</td>\n",
       "      <td>1.227273</td>\n",
       "      <td>3.857143</td>\n",
       "      <td>11.0</td>\n",
       "    </tr>\n",
       "    <tr>\n",
       "      <th>MIR1302-2</th>\n",
       "      <td>NaN</td>\n",
       "      <td>NaN</td>\n",
       "      <td>ENSG00000284332.1</td>\n",
       "      <td>NaN</td>\n",
       "      <td>NaN</td>\n",
       "      <td>NaN</td>\n",
       "      <td>NaN</td>\n",
       "      <td>NaN</td>\n",
       "      <td>NaN</td>\n",
       "      <td>NaN</td>\n",
       "      <td>...</td>\n",
       "      <td>NaN</td>\n",
       "      <td>NaN</td>\n",
       "      <td>NaN</td>\n",
       "      <td>NaN</td>\n",
       "      <td>NaN</td>\n",
       "      <td>NaN</td>\n",
       "      <td>NaN</td>\n",
       "      <td>NaN</td>\n",
       "      <td>NaN</td>\n",
       "      <td>NaN</td>\n",
       "    </tr>\n",
       "  </tbody>\n",
       "</table>\n",
       "<p>5 rows × 27 columns</p>\n",
       "</div>"
      ],
      "text/plain": [
       "             antisense_reads  duplicate_reads          featureid  \\\n",
       "featurekey                                                         \n",
       "DDX11L1                  0.0              0.0  ENSG00000223972.5   \n",
       "WASH7P                   0.0              0.0  ENSG00000227232.5   \n",
       "MIR6859-1                0.0              0.0  ENSG00000278267.1   \n",
       "MIR1302-2HG              0.0              0.0  ENSG00000243485.5   \n",
       "MIR1302-2                NaN              NaN  ENSG00000284332.1   \n",
       "\n",
       "             fragments_per_molecule  fragments_with_single_read_evidence  \\\n",
       "featurekey                                                                 \n",
       "DDX11L1                    1.000000                                  1.0   \n",
       "WASH7P                     1.805882                                506.0   \n",
       "MIR6859-1                  1.000000                                  1.0   \n",
       "MIR1302-2HG                3.142857                                 19.0   \n",
       "MIR1302-2                       NaN                                  NaN   \n",
       "\n",
       "             genomic_read_quality_mean  genomic_read_quality_variance  \\\n",
       "featurekey                                                              \n",
       "DDX11L1                      24.602041                            NaN   \n",
       "WASH7P                       33.015957                      22.889387   \n",
       "MIR6859-1                    24.816326                            NaN   \n",
       "MIR1302-2HG                  34.615662                            NaN   \n",
       "MIR1302-2                          NaN                            NaN   \n",
       "\n",
       "             genomic_reads_fraction_bases_quality_above_30_mean  \\\n",
       "featurekey                                                        \n",
       "DDX11L1                                               0.306122    \n",
       "WASH7P                                                0.779228    \n",
       "MIR6859-1                                             0.367347    \n",
       "MIR1302-2HG                                           0.851380    \n",
       "MIR1302-2                                                  NaN    \n",
       "\n",
       "             genomic_reads_fraction_bases_quality_above_30_variance  \\\n",
       "featurekey                                                            \n",
       "DDX11L1                                                    NaN        \n",
       "WASH7P                                                0.057938        \n",
       "MIR6859-1                                                  NaN        \n",
       "MIR1302-2HG                                                NaN        \n",
       "MIR1302-2                                                  NaN        \n",
       "\n",
       "             molecule_barcode_fraction_bases_above_30_mean  ...  \\\n",
       "featurekey                                                  ...   \n",
       "DDX11L1                                           1.000000  ...   \n",
       "WASH7P                                            0.971467  ...   \n",
       "MIR6859-1                                         0.800000  ...   \n",
       "MIR1302-2HG                                       0.974074  ...   \n",
       "MIR1302-2                                              NaN  ...   \n",
       "\n",
       "             number_cells_expressing  perfect_molecule_barcodes  \\\n",
       "featurekey                                                        \n",
       "DDX11L1                          1.0                        1.0   \n",
       "WASH7P                         321.0                      721.0   \n",
       "MIR6859-1                        1.0                        1.0   \n",
       "MIR1302-2HG                      7.0                       26.0   \n",
       "MIR1302-2                        NaN                        NaN   \n",
       "\n",
       "             reads_mapped_exonic  reads_mapped_intronic  \\\n",
       "featurekey                                                \n",
       "DDX11L1                      1.0                    0.0   \n",
       "WASH7P                     743.0                    0.0   \n",
       "MIR6859-1                    1.0                    0.0   \n",
       "MIR1302-2HG                 27.0                    0.0   \n",
       "MIR1302-2                    NaN                    NaN   \n",
       "\n",
       "             reads_mapped_multiple  reads_mapped_uniquely  reads_mapped_utr  \\\n",
       "featurekey                                                                    \n",
       "DDX11L1                        1.0                    0.0               0.0   \n",
       "WASH7P                       743.0                    0.0               0.0   \n",
       "MIR6859-1                      0.0                    1.0               0.0   \n",
       "MIR1302-2HG                   27.0                    0.0               0.0   \n",
       "MIR1302-2                      NaN                    NaN               NaN   \n",
       "\n",
       "             reads_per_fragment  reads_per_molecule  spliced_reads  \n",
       "featurekey                                                          \n",
       "DDX11L1                1.000000            1.000000            0.0  \n",
       "WASH7P                 1.210098            2.185294           23.0  \n",
       "MIR6859-1              1.000000            1.000000            0.0  \n",
       "MIR1302-2HG            1.227273            3.857143           11.0  \n",
       "MIR1302-2                   NaN                 NaN            NaN  \n",
       "\n",
       "[5 rows x 27 columns]"
      ]
     },
     "execution_count": 7,
     "metadata": {},
     "output_type": "execute_result"
    }
   ],
   "source": [
    "data.var.head()"
   ]
  },
  {
   "cell_type": "markdown",
   "id": "fa7ad124",
   "metadata": {},
   "source": [
    "* Unstructured information: `data.uns`, a Python [hashed dictionary](https://docs.python.org/3/library/collections.html#collections.OrderedDict). It usually stores information not restricted to barcodes or features, but about the whole dataset, such as its genome reference and modality type:"
   ]
  },
  {
   "cell_type": "code",
   "execution_count": 8,
   "id": "7cbf75d8",
   "metadata": {},
   "outputs": [
    {
     "data": {
      "text/plain": [
       "'human'"
      ]
     },
     "execution_count": 8,
     "metadata": {},
     "output_type": "execute_result"
    }
   ],
   "source": [
    "data.uns['genome']"
   ]
  },
  {
   "cell_type": "code",
   "execution_count": 9,
   "id": "37578718",
   "metadata": {},
   "outputs": [
    {
     "data": {
      "text/plain": [
       "'rna'"
      ]
     },
     "execution_count": 9,
     "metadata": {},
     "output_type": "execute_result"
    }
   ],
   "source": [
    "data.uns['modality']"
   ]
  },
  {
   "cell_type": "markdown",
   "id": "665031cd",
   "metadata": {},
   "source": [
    "* Finally, embedding attributes on cell barcodes: `data.obsm`; as well as on genes, `data.varm`. We'll see it in later sections."
   ]
  },
  {
   "cell_type": "markdown",
   "id": "56937005",
   "metadata": {},
   "source": [
    "## Single-Cell Analysis\n",
    "\n",
    "In the following sections, we'll choose a subset of the data with respect to one specific donor (with input_id `02f207ae-217b-42ce-9733-c03e61541fcc`), and perform single-cell analysis on it:"
   ]
  },
  {
   "cell_type": "code",
   "execution_count": 10,
   "id": "91527b89",
   "metadata": {},
   "outputs": [
    {
     "data": {
      "text/plain": [
       "MultimodalData object with 1 UnimodalData: 'human-rna'\n",
       "    It currently binds to UnimodalData object human-rna\n",
       "\n",
       "UnimodalData object with n_obs x n_vars = 87538 x 58347\n",
       "    Genome: human; Modality: rna\n",
       "    It contains 1 matrix: 'X'\n",
       "    It currently binds to matrix 'X' as X\n",
       "\n",
       "    obs: 'antisense_reads', 'cell_barcode_fraction_bases_above_30_mean', 'cell_barcode_fraction_bases_above_30_variance', 'duplicate_reads', 'emptydrops_FDR', 'emptydrops_IsCell', 'emptydrops_Limited', 'emptydrops_LogProb', 'emptydrops_PValue', 'emptydrops_Total', 'fragments_per_molecule', 'fragments_with_single_read_evidence', 'genes_detected_multiple_observations', 'genomic_read_quality_mean', 'genomic_read_quality_variance', 'genomic_reads_fraction_bases_quality_above_30_mean', 'genomic_reads_fraction_bases_quality_above_30_variance', 'input_id', 'molecule_barcode_fraction_bases_above_30_mean', 'molecule_barcode_fraction_bases_above_30_variance', 'molecules_with_single_read_evidence', 'n_fragments', 'n_genes', 'n_mitochondrial_genes', 'n_mitochondrial_molecules', 'n_molecules', 'n_reads', 'noise_reads', 'pct_mitochondrial_molecules', 'perfect_cell_barcodes', 'perfect_molecule_barcodes', 'reads_mapped_exonic', 'reads_mapped_intergenic', 'reads_mapped_intronic', 'reads_mapped_multiple', 'reads_mapped_too_many_loci', 'reads_mapped_uniquely', 'reads_mapped_utr', 'reads_per_fragment', 'reads_unmapped', 'spliced_reads', 'Channel'\n",
       "    var: 'antisense_reads', 'duplicate_reads', 'featureid', 'fragments_per_molecule', 'fragments_with_single_read_evidence', 'genomic_read_quality_mean', 'genomic_read_quality_variance', 'genomic_reads_fraction_bases_quality_above_30_mean', 'genomic_reads_fraction_bases_quality_above_30_variance', 'molecule_barcode_fraction_bases_above_30_mean', 'molecule_barcode_fraction_bases_above_30_variance', 'molecules_with_single_read_evidence', 'n_fragments', 'n_molecules', 'n_reads', 'noise_reads', 'number_cells_detected_multiple', 'number_cells_expressing', 'perfect_molecule_barcodes', 'reads_mapped_exonic', 'reads_mapped_intronic', 'reads_mapped_multiple', 'reads_mapped_uniquely', 'reads_mapped_utr', 'reads_per_fragment', 'reads_per_molecule', 'spliced_reads'\n",
       "    obsm: \n",
       "    varm: \n",
       "    uns: 'CreationDate', 'LOOM_SPEC_VERSION', 'donor_organism.genus_species', 'expression_data_type', 'input_id', 'input_id_metadata_field', 'input_name', 'input_name_metadata_field', 'library_preparation_protocol.library_construction_approach', 'optimus_output_schema_version', 'pipeline_version', 'project.project_core.project_name', 'project.provenance.document_id', 'specimen_from_organism.organ', 'genome', 'modality'"
      ]
     },
     "execution_count": 10,
     "metadata": {},
     "output_type": "execute_result"
    }
   ],
   "source": [
    "data._inplace_subset_obs(data.obs['input_id']=='02f207ae-217b-42ce-9733-c03e61541fcc')\n",
    "data"
   ]
  },
  {
   "cell_type": "markdown",
   "id": "b3979ad8",
   "metadata": {},
   "source": [
    "This donor has $87,538$ cells."
   ]
  },
  {
   "cell_type": "markdown",
   "id": "b31d753e",
   "metadata": {},
   "source": [
    "### Quality Control\n",
    "\n",
    "The first step is to perform the quality control analysis, and remove cells and genes of low quality.\n",
    "\n",
    "We can generate QC metrics using `qc_metrics` function with the following settings:"
   ]
  },
  {
   "cell_type": "code",
   "execution_count": 11,
   "id": "939c6438",
   "metadata": {},
   "outputs": [],
   "source": [
    "pg.qc_metrics(data, min_genes=1, max_genes=2500, mito_prefix='MT-', percent_mito=10)"
   ]
  },
  {
   "cell_type": "markdown",
   "id": "bc9a38c1",
   "metadata": {},
   "source": [
    "The metrics considered are:\n",
    "* **Number of genes:** Keep cells with $1$ ≤ # Genes < $2500$;\n",
    "* **Number of UMIs:** Don't filter cells due to UMI bounds (*Default*);\n",
    "* **Percent of Mitochondrial genes:** Look for mitochondrial (MT) genes of name starting with `MT-`. Keep cells with percent of MT genes $<10\\%$.\n",
    "\n",
    "For details on customizing your own thresholds, see [documentation](https://pegasus.readthedocs.io/en/stable/api/pegasus.qc_metrics.html).\n",
    "\n",
    "Numeric summaries on filtration on cell barcodes and genes can be achieved by `get_filter_stats` method:"
   ]
  },
  {
   "cell_type": "code",
   "execution_count": 12,
   "id": "e06c21f8",
   "metadata": {},
   "outputs": [
    {
     "data": {
      "text/html": [
       "<div>\n",
       "<style scoped>\n",
       "    .dataframe tbody tr th:only-of-type {\n",
       "        vertical-align: middle;\n",
       "    }\n",
       "\n",
       "    .dataframe tbody tr th {\n",
       "        vertical-align: top;\n",
       "    }\n",
       "\n",
       "    .dataframe thead th {\n",
       "        text-align: right;\n",
       "    }\n",
       "</style>\n",
       "<table border=\"1\" class=\"dataframe\">\n",
       "  <thead>\n",
       "    <tr style=\"text-align: right;\">\n",
       "      <th></th>\n",
       "      <th>kept</th>\n",
       "      <th>median_n_genes</th>\n",
       "      <th>median_n_umis</th>\n",
       "      <th>median_percent_mito</th>\n",
       "      <th>filt</th>\n",
       "      <th>total</th>\n",
       "      <th>median_n_genes_before</th>\n",
       "      <th>median_n_umis_before</th>\n",
       "      <th>median_percent_mito_before</th>\n",
       "    </tr>\n",
       "    <tr>\n",
       "      <th>Channel</th>\n",
       "      <th></th>\n",
       "      <th></th>\n",
       "      <th></th>\n",
       "      <th></th>\n",
       "      <th></th>\n",
       "      <th></th>\n",
       "      <th></th>\n",
       "      <th></th>\n",
       "      <th></th>\n",
       "    </tr>\n",
       "  </thead>\n",
       "  <tbody>\n",
       "    <tr>\n",
       "      <th>0</th>\n",
       "      <td>342</td>\n",
       "      <td>835.5</td>\n",
       "      <td>2745.5</td>\n",
       "      <td>7.879064</td>\n",
       "      <td>87196</td>\n",
       "      <td>87538</td>\n",
       "      <td>97</td>\n",
       "      <td>222</td>\n",
       "      <td>62.755102</td>\n",
       "    </tr>\n",
       "  </tbody>\n",
       "</table>\n",
       "</div>"
      ],
      "text/plain": [
       "         kept  median_n_genes  median_n_umis  median_percent_mito   filt  \\\n",
       "Channel                                                                    \n",
       "0         342           835.5         2745.5             7.879064  87196   \n",
       "\n",
       "         total  median_n_genes_before  median_n_umis_before  \\\n",
       "Channel                                                       \n",
       "0        87538                     97                   222   \n",
       "\n",
       "         median_percent_mito_before  \n",
       "Channel                              \n",
       "0                         62.755102  "
      ]
     },
     "execution_count": 12,
     "metadata": {},
     "output_type": "execute_result"
    }
   ],
   "source": [
    "df_qc = pg.get_filter_stats(data)\n",
    "df_qc"
   ]
  },
  {
   "cell_type": "markdown",
   "id": "fd7d5e9e",
   "metadata": {},
   "source": [
    "The results is a Pandas data frame with each column for one sample. Here, we only have one donor (`Channel` attribute is `0`), so summaries on all the other samples are 0.\n",
    "\n",
    "You can also check the QC stats via plots. Below is on number of genes:"
   ]
  },
  {
   "cell_type": "code",
   "execution_count": 13,
   "id": "40b24a31",
   "metadata": {},
   "outputs": [
    {
     "data": {
      "image/png": "[encoded data removed]",
      "text/plain": [
       "<Figure size 900x600 with 1 Axes>"
      ]
     },
     "metadata": {
      "needs_background": "light"
     },
     "output_type": "display_data"
    }
   ],
   "source": [
    "pg.qcviolin(data, plot_type='gene', dpi=100)"
   ]
  },
  {
   "cell_type": "markdown",
   "id": "a77f7e93",
   "metadata": {},
   "source": [
    "Then on number of UMIs:"
   ]
  },
  {
   "cell_type": "code",
   "execution_count": 14,
   "id": "436e9b72",
   "metadata": {},
   "outputs": [
    {
     "data": {
      "image/png": "[encoded data removed]",
      "text/plain": [
       "<Figure size 900x600 with 1 Axes>"
      ]
     },
     "metadata": {
      "needs_background": "light"
     },
     "output_type": "display_data"
    }
   ],
   "source": [
    "pg.qcviolin(data, plot_type='count', dpi=100)"
   ]
  },
  {
   "cell_type": "markdown",
   "id": "c19e4ea3",
   "metadata": {},
   "source": [
    "On number of percentage of mitochondrial genes:"
   ]
  },
  {
   "cell_type": "code",
   "execution_count": 15,
   "id": "3c80a715",
   "metadata": {},
   "outputs": [
    {
     "data": {
      "image/png": "[encoded data removed]",
      "text/plain": [
       "<Figure size 900x600 with 1 Axes>"
      ]
     },
     "metadata": {
      "needs_background": "light"
     },
     "output_type": "display_data"
    }
   ],
   "source": [
    "pg.qcviolin(data, plot_type='mito', dpi=100)"
   ]
  },
  {
   "cell_type": "markdown",
   "id": "0d44285d",
   "metadata": {},
   "source": [
    "Besides these 3 commonly used QC metrics, you can use other ones stored in `obs` field for filtering. For example, `emptydrops_IsCell`:"
   ]
  },
  {
   "cell_type": "code",
   "execution_count": 16,
   "id": "eeed0658",
   "metadata": {},
   "outputs": [
    {
     "data": {
      "text/plain": [
       "0    46766\n",
       "1    40772\n",
       "Name: emptydrops_IsCell, dtype: int64"
      ]
     },
     "execution_count": 16,
     "metadata": {},
     "output_type": "execute_result"
    }
   ],
   "source": [
    "data.obs['emptydrops_IsCell'].value_counts()"
   ]
  },
  {
   "cell_type": "markdown",
   "id": "ff0c4b3b",
   "metadata": {},
   "source": [
    "You can further filter the data using this metric, which will have $40,772$ cells left. To do that, it is similar to creating a subset of the original count matrix above. You can uncomment the following section to achieve that:"
   ]
  },
  {
   "cell_type": "code",
   "execution_count": 17,
   "id": "2ec7b143",
   "metadata": {},
   "outputs": [],
   "source": [
    "#data._inplace_subset_obs(data.obs['emptydrops_IsCell']==1)"
   ]
  },
  {
   "cell_type": "markdown",
   "id": "096ad318",
   "metadata": {},
   "source": [
    "Now filter cells based on QC metrics set in `qc_metrics`:"
   ]
  },
  {
   "cell_type": "code",
   "execution_count": 18,
   "id": "74be8458",
   "metadata": {},
   "outputs": [
    {
     "name": "stdout",
     "output_type": "stream",
     "text": [
      "2021-05-12 22:51:12,834 - pegasusio.qc_utils - INFO - After filtration, 342 out of 87538 cell barcodes are kept in UnimodalData object human-rna.\n",
      "2021-05-12 22:51:12,834 - pegasus.tools.preprocessing - INFO - Function 'filter_data' finished in 0.12s.\n"
     ]
    }
   ],
   "source": [
    "pg.filter_data(data)"
   ]
  },
  {
   "cell_type": "markdown",
   "id": "0393aac5",
   "metadata": {},
   "source": [
    "You can see that $342$ cells are kept.\n",
    "\n",
    "Moreover, for genes, only those with no cell expression are removed. After that, we identify **robust** genes for downstream analysis:"
   ]
  },
  {
   "cell_type": "code",
   "execution_count": 19,
   "id": "20e88203",
   "metadata": {},
   "outputs": [
    {
     "name": "stdout",
     "output_type": "stream",
     "text": [
      "2021-05-12 22:51:12,933 - pegasus.tools.preprocessing - INFO - After filtration, 17480/58347 genes are kept. Among 17480 genes, 17480 genes are robust.\n",
      "2021-05-12 22:51:12,934 - pegasus.tools.preprocessing - INFO - Function 'identify_robust_genes' finished in 0.09s.\n"
     ]
    }
   ],
   "source": [
    "pg.identify_robust_genes(data)"
   ]
  },
  {
   "cell_type": "markdown",
   "id": "1c4194aa",
   "metadata": {},
   "source": [
    "`identify_robust_genes` function first remove those genes with no cell expressing them, which has $17,480$ genes left. Then it uses the following metric to identify robust genes:\n",
    "* Gene is expressed in at least $0.05\\%$ of cells, i.e. among every 6000 cells, there are at least 3 cells expressing this gene.\n",
    "\n",
    "As this dataset is pretty small after filtering cells, the default $0.05\\%$ is actually $0$, meaning that the remaining genes are all robust.\n",
    "\n",
    "Please see [its documentation](https://pegasus.readthedocs.io/en/stable/api/pegasus.identify_robust_genes.html) for details."
   ]
  },
  {
   "cell_type": "markdown",
   "id": "51df128a",
   "metadata": {},
   "source": [
    "### Log-normalization\n",
    "\n",
    "After filtration, we need to first normalize the distribution of counts w.r.t. each cell to have the same sum (default is $10^5$, see [documentation](https://pegasus.readthedocs.io/en/stable/api/pegasus.log_norm.html)), and then transform into logarithmic space by $log(x+1)$ to avoid number explosion:"
   ]
  },
  {
   "cell_type": "code",
   "execution_count": 20,
   "id": "99486db0",
   "metadata": {},
   "outputs": [
    {
     "name": "stdout",
     "output_type": "stream",
     "text": [
      "2021-05-12 22:51:12,949 - pegasus.tools.preprocessing - INFO - Function 'log_norm' finished in 0.01s.\n"
     ]
    }
   ],
   "source": [
    "pg.log_norm(data)"
   ]
  },
  {
   "cell_type": "markdown",
   "id": "7af0500e",
   "metadata": {},
   "source": [
    "### Select Highly Variable Features\n",
    "\n",
    "**Highly Variable Features (HVF)** are more likely to convey information discriminating different cell types and states. Thus, rather than considering all genes, people usually focus on selected HVFs for downstream analyses.\n",
    "\n",
    "HVFs are selected from robust genes identified above. In addition, you need to set `consider_batch` flag to consider or not consider batch effect during the selection. Since there is only one sample here, you should set it to `False`:"
   ]
  },
  {
   "cell_type": "code",
   "execution_count": 21,
   "id": "a099a09f",
   "metadata": {},
   "outputs": [
    {
     "name": "stdout",
     "output_type": "stream",
     "text": [
      "2021-05-12 22:51:12,957 - pegasus.tools.hvf_selection - INFO - Function 'estimate_feature_statistics' finished in 0.00s.\n",
      "2021-05-12 22:51:12,998 - pegasus.tools.hvf_selection - INFO - 2000 highly variable features have been selected.\n",
      "2021-05-12 22:51:12,998 - pegasus.tools.hvf_selection - INFO - Function 'highly_variable_features' finished in 0.04s.\n"
     ]
    }
   ],
   "source": [
    "pg.highly_variable_features(data, consider_batch=False)"
   ]
  },
  {
   "cell_type": "markdown",
   "id": "2f84ed9b",
   "metadata": {},
   "source": [
    "By default, we select $2000$ HVFs using the pegasus selection method. Alternative, you can also choose the traditional method that both Seurat and SCANPY use, by setting `flavor='Seurat'`. See [documentation](https://pegasus.readthedocs.io/en/stable/api/pegasus.highly_variable_features.html) for details.\n",
    "\n",
    "We can view HVFs by ranking them from top:"
   ]
  },
  {
   "cell_type": "code",
   "execution_count": 22,
   "id": "02f2ea1d",
   "metadata": {},
   "outputs": [
    {
     "data": {
      "text/html": [
       "<div>\n",
       "<style scoped>\n",
       "    .dataframe tbody tr th:only-of-type {\n",
       "        vertical-align: middle;\n",
       "    }\n",
       "\n",
       "    .dataframe tbody tr th {\n",
       "        vertical-align: top;\n",
       "    }\n",
       "\n",
       "    .dataframe thead th {\n",
       "        text-align: right;\n",
       "    }\n",
       "</style>\n",
       "<table border=\"1\" class=\"dataframe\">\n",
       "  <thead>\n",
       "    <tr style=\"text-align: right;\">\n",
       "      <th></th>\n",
       "      <th>antisense_reads</th>\n",
       "      <th>duplicate_reads</th>\n",
       "      <th>featureid</th>\n",
       "      <th>fragments_per_molecule</th>\n",
       "      <th>fragments_with_single_read_evidence</th>\n",
       "      <th>genomic_read_quality_mean</th>\n",
       "      <th>genomic_read_quality_variance</th>\n",
       "      <th>genomic_reads_fraction_bases_quality_above_30_mean</th>\n",
       "      <th>genomic_reads_fraction_bases_quality_above_30_variance</th>\n",
       "      <th>molecule_barcode_fraction_bases_above_30_mean</th>\n",
       "      <th>...</th>\n",
       "      <th>reads_per_molecule</th>\n",
       "      <th>spliced_reads</th>\n",
       "      <th>n_cells</th>\n",
       "      <th>percent_cells</th>\n",
       "      <th>robust</th>\n",
       "      <th>highly_variable_features</th>\n",
       "      <th>mean</th>\n",
       "      <th>var</th>\n",
       "      <th>hvf_loess</th>\n",
       "      <th>hvf_rank</th>\n",
       "    </tr>\n",
       "    <tr>\n",
       "      <th>featurekey</th>\n",
       "      <th></th>\n",
       "      <th></th>\n",
       "      <th></th>\n",
       "      <th></th>\n",
       "      <th></th>\n",
       "      <th></th>\n",
       "      <th></th>\n",
       "      <th></th>\n",
       "      <th></th>\n",
       "      <th></th>\n",
       "      <th></th>\n",
       "      <th></th>\n",
       "      <th></th>\n",
       "      <th></th>\n",
       "      <th></th>\n",
       "      <th></th>\n",
       "      <th></th>\n",
       "      <th></th>\n",
       "      <th></th>\n",
       "      <th></th>\n",
       "      <th></th>\n",
       "    </tr>\n",
       "  </thead>\n",
       "  <tbody>\n",
       "    <tr>\n",
       "      <th>HBA1</th>\n",
       "      <td>0.0</td>\n",
       "      <td>0.0</td>\n",
       "      <td>ENSG00000206172.8</td>\n",
       "      <td>5.074055</td>\n",
       "      <td>1124194.0</td>\n",
       "      <td>32.279510</td>\n",
       "      <td>25.866257</td>\n",
       "      <td>0.739059</td>\n",
       "      <td>0.068981</td>\n",
       "      <td>0.962203</td>\n",
       "      <td>...</td>\n",
       "      <td>5.802186</td>\n",
       "      <td>577815.0</td>\n",
       "      <td>159</td>\n",
       "      <td>46.491228</td>\n",
       "      <td>True</td>\n",
       "      <td>True</td>\n",
       "      <td>3.144765</td>\n",
       "      <td>15.499605</td>\n",
       "      <td>6.734579</td>\n",
       "      <td>1</td>\n",
       "    </tr>\n",
       "    <tr>\n",
       "      <th>HBB</th>\n",
       "      <td>0.0</td>\n",
       "      <td>0.0</td>\n",
       "      <td>ENSG00000244734.3</td>\n",
       "      <td>7.932229</td>\n",
       "      <td>2410712.0</td>\n",
       "      <td>34.472542</td>\n",
       "      <td>14.437325</td>\n",
       "      <td>0.845814</td>\n",
       "      <td>0.039815</td>\n",
       "      <td>0.967429</td>\n",
       "      <td>...</td>\n",
       "      <td>9.454004</td>\n",
       "      <td>860877.0</td>\n",
       "      <td>239</td>\n",
       "      <td>69.883041</td>\n",
       "      <td>True</td>\n",
       "      <td>True</td>\n",
       "      <td>4.692738</td>\n",
       "      <td>16.543134</td>\n",
       "      <td>7.693554</td>\n",
       "      <td>2</td>\n",
       "    </tr>\n",
       "    <tr>\n",
       "      <th>HBA2</th>\n",
       "      <td>0.0</td>\n",
       "      <td>0.0</td>\n",
       "      <td>ENSG00000188536.12</td>\n",
       "      <td>5.013353</td>\n",
       "      <td>1083875.0</td>\n",
       "      <td>32.464790</td>\n",
       "      <td>25.148745</td>\n",
       "      <td>0.748488</td>\n",
       "      <td>0.066890</td>\n",
       "      <td>0.962076</td>\n",
       "      <td>...</td>\n",
       "      <td>5.737326</td>\n",
       "      <td>577578.0</td>\n",
       "      <td>163</td>\n",
       "      <td>47.660819</td>\n",
       "      <td>True</td>\n",
       "      <td>True</td>\n",
       "      <td>3.072382</td>\n",
       "      <td>14.293973</td>\n",
       "      <td>6.623949</td>\n",
       "      <td>3</td>\n",
       "    </tr>\n",
       "    <tr>\n",
       "      <th>HBD</th>\n",
       "      <td>0.0</td>\n",
       "      <td>0.0</td>\n",
       "      <td>ENSG00000223609.7</td>\n",
       "      <td>7.114737</td>\n",
       "      <td>61705.0</td>\n",
       "      <td>34.150475</td>\n",
       "      <td>16.710175</td>\n",
       "      <td>0.828592</td>\n",
       "      <td>0.046093</td>\n",
       "      <td>0.969114</td>\n",
       "      <td>...</td>\n",
       "      <td>8.422227</td>\n",
       "      <td>23998.0</td>\n",
       "      <td>95</td>\n",
       "      <td>27.777778</td>\n",
       "      <td>True</td>\n",
       "      <td>True</td>\n",
       "      <td>1.635301</td>\n",
       "      <td>7.944987</td>\n",
       "      <td>4.249269</td>\n",
       "      <td>30</td>\n",
       "    </tr>\n",
       "    <tr>\n",
       "      <th>IGHG1</th>\n",
       "      <td>0.0</td>\n",
       "      <td>0.0</td>\n",
       "      <td>ENSG00000211896.7</td>\n",
       "      <td>4.755211</td>\n",
       "      <td>319451.0</td>\n",
       "      <td>33.821728</td>\n",
       "      <td>19.935104</td>\n",
       "      <td>0.815256</td>\n",
       "      <td>0.052244</td>\n",
       "      <td>0.957616</td>\n",
       "      <td>...</td>\n",
       "      <td>5.469046</td>\n",
       "      <td>4070.0</td>\n",
       "      <td>68</td>\n",
       "      <td>19.883041</td>\n",
       "      <td>True</td>\n",
       "      <td>True</td>\n",
       "      <td>0.980620</td>\n",
       "      <td>5.229134</td>\n",
       "      <td>2.819322</td>\n",
       "      <td>35</td>\n",
       "    </tr>\n",
       "    <tr>\n",
       "      <th>...</th>\n",
       "      <td>...</td>\n",
       "      <td>...</td>\n",
       "      <td>...</td>\n",
       "      <td>...</td>\n",
       "      <td>...</td>\n",
       "      <td>...</td>\n",
       "      <td>...</td>\n",
       "      <td>...</td>\n",
       "      <td>...</td>\n",
       "      <td>...</td>\n",
       "      <td>...</td>\n",
       "      <td>...</td>\n",
       "      <td>...</td>\n",
       "      <td>...</td>\n",
       "      <td>...</td>\n",
       "      <td>...</td>\n",
       "      <td>...</td>\n",
       "      <td>...</td>\n",
       "      <td>...</td>\n",
       "      <td>...</td>\n",
       "      <td>...</td>\n",
       "    </tr>\n",
       "    <tr>\n",
       "      <th>TXNDC17</th>\n",
       "      <td>0.0</td>\n",
       "      <td>0.0</td>\n",
       "      <td>ENSG00000129235.10</td>\n",
       "      <td>6.168974</td>\n",
       "      <td>10669.0</td>\n",
       "      <td>34.821915</td>\n",
       "      <td>13.397641</td>\n",
       "      <td>0.862210</td>\n",
       "      <td>0.036658</td>\n",
       "      <td>0.973419</td>\n",
       "      <td>...</td>\n",
       "      <td>7.621002</td>\n",
       "      <td>12549.0</td>\n",
       "      <td>51</td>\n",
       "      <td>14.912281</td>\n",
       "      <td>True</td>\n",
       "      <td>True</td>\n",
       "      <td>0.512316</td>\n",
       "      <td>1.673697</td>\n",
       "      <td>1.608816</td>\n",
       "      <td>3983</td>\n",
       "    </tr>\n",
       "    <tr>\n",
       "      <th>NUDCD3</th>\n",
       "      <td>0.0</td>\n",
       "      <td>0.0</td>\n",
       "      <td>ENSG00000015676.17</td>\n",
       "      <td>4.312321</td>\n",
       "      <td>1239.0</td>\n",
       "      <td>33.872566</td>\n",
       "      <td>17.282541</td>\n",
       "      <td>0.817391</td>\n",
       "      <td>0.045858</td>\n",
       "      <td>0.964481</td>\n",
       "      <td>...</td>\n",
       "      <td>5.332378</td>\n",
       "      <td>53.0</td>\n",
       "      <td>10</td>\n",
       "      <td>2.923977</td>\n",
       "      <td>True</td>\n",
       "      <td>True</td>\n",
       "      <td>0.100637</td>\n",
       "      <td>0.353429</td>\n",
       "      <td>0.326560</td>\n",
       "      <td>3984</td>\n",
       "    </tr>\n",
       "    <tr>\n",
       "      <th>TRIM33</th>\n",
       "      <td>0.0</td>\n",
       "      <td>0.0</td>\n",
       "      <td>ENSG00000197323.11</td>\n",
       "      <td>4.983707</td>\n",
       "      <td>2042.0</td>\n",
       "      <td>34.873642</td>\n",
       "      <td>10.387067</td>\n",
       "      <td>0.866197</td>\n",
       "      <td>0.028603</td>\n",
       "      <td>0.973820</td>\n",
       "      <td>...</td>\n",
       "      <td>6.083503</td>\n",
       "      <td>288.0</td>\n",
       "      <td>20</td>\n",
       "      <td>5.847953</td>\n",
       "      <td>True</td>\n",
       "      <td>True</td>\n",
       "      <td>0.198414</td>\n",
       "      <td>0.676026</td>\n",
       "      <td>0.635575</td>\n",
       "      <td>3987</td>\n",
       "    </tr>\n",
       "    <tr>\n",
       "      <th>DIRAS3</th>\n",
       "      <td>0.0</td>\n",
       "      <td>0.0</td>\n",
       "      <td>ENSG00000162595.5</td>\n",
       "      <td>3.800000</td>\n",
       "      <td>185.0</td>\n",
       "      <td>34.242702</td>\n",
       "      <td>NaN</td>\n",
       "      <td>0.829804</td>\n",
       "      <td>NaN</td>\n",
       "      <td>0.963732</td>\n",
       "      <td>...</td>\n",
       "      <td>4.733333</td>\n",
       "      <td>0.0</td>\n",
       "      <td>3</td>\n",
       "      <td>0.877193</td>\n",
       "      <td>True</td>\n",
       "      <td>True</td>\n",
       "      <td>0.032149</td>\n",
       "      <td>0.117785</td>\n",
       "      <td>0.103954</td>\n",
       "      <td>3994</td>\n",
       "    </tr>\n",
       "    <tr>\n",
       "      <th>ELMOD2</th>\n",
       "      <td>0.0</td>\n",
       "      <td>0.0</td>\n",
       "      <td>ENSG00000179387.9</td>\n",
       "      <td>4.608696</td>\n",
       "      <td>701.0</td>\n",
       "      <td>34.653576</td>\n",
       "      <td>NaN</td>\n",
       "      <td>0.854487</td>\n",
       "      <td>NaN</td>\n",
       "      <td>0.975985</td>\n",
       "      <td>...</td>\n",
       "      <td>5.929348</td>\n",
       "      <td>310.0</td>\n",
       "      <td>13</td>\n",
       "      <td>3.801170</td>\n",
       "      <td>True</td>\n",
       "      <td>True</td>\n",
       "      <td>0.123075</td>\n",
       "      <td>0.429287</td>\n",
       "      <td>0.399070</td>\n",
       "      <td>3994</td>\n",
       "    </tr>\n",
       "  </tbody>\n",
       "</table>\n",
       "<p>2000 rows × 35 columns</p>\n",
       "</div>"
      ],
      "text/plain": [
       "            antisense_reads  duplicate_reads           featureid  \\\n",
       "featurekey                                                         \n",
       "HBA1                    0.0              0.0   ENSG00000206172.8   \n",
       "HBB                     0.0              0.0   ENSG00000244734.3   \n",
       "HBA2                    0.0              0.0  ENSG00000188536.12   \n",
       "HBD                     0.0              0.0   ENSG00000223609.7   \n",
       "IGHG1                   0.0              0.0   ENSG00000211896.7   \n",
       "...                     ...              ...                 ...   \n",
       "TXNDC17                 0.0              0.0  ENSG00000129235.10   \n",
       "NUDCD3                  0.0              0.0  ENSG00000015676.17   \n",
       "TRIM33                  0.0              0.0  ENSG00000197323.11   \n",
       "DIRAS3                  0.0              0.0   ENSG00000162595.5   \n",
       "ELMOD2                  0.0              0.0   ENSG00000179387.9   \n",
       "\n",
       "            fragments_per_molecule  fragments_with_single_read_evidence  \\\n",
       "featurekey                                                                \n",
       "HBA1                      5.074055                            1124194.0   \n",
       "HBB                       7.932229                            2410712.0   \n",
       "HBA2                      5.013353                            1083875.0   \n",
       "HBD                       7.114737                              61705.0   \n",
       "IGHG1                     4.755211                             319451.0   \n",
       "...                            ...                                  ...   \n",
       "TXNDC17                   6.168974                              10669.0   \n",
       "NUDCD3                    4.312321                               1239.0   \n",
       "TRIM33                    4.983707                               2042.0   \n",
       "DIRAS3                    3.800000                                185.0   \n",
       "ELMOD2                    4.608696                                701.0   \n",
       "\n",
       "            genomic_read_quality_mean  genomic_read_quality_variance  \\\n",
       "featurekey                                                             \n",
       "HBA1                        32.279510                      25.866257   \n",
       "HBB                         34.472542                      14.437325   \n",
       "HBA2                        32.464790                      25.148745   \n",
       "HBD                         34.150475                      16.710175   \n",
       "IGHG1                       33.821728                      19.935104   \n",
       "...                               ...                            ...   \n",
       "TXNDC17                     34.821915                      13.397641   \n",
       "NUDCD3                      33.872566                      17.282541   \n",
       "TRIM33                      34.873642                      10.387067   \n",
       "DIRAS3                      34.242702                            NaN   \n",
       "ELMOD2                      34.653576                            NaN   \n",
       "\n",
       "            genomic_reads_fraction_bases_quality_above_30_mean  \\\n",
       "featurekey                                                       \n",
       "HBA1                                                 0.739059    \n",
       "HBB                                                  0.845814    \n",
       "HBA2                                                 0.748488    \n",
       "HBD                                                  0.828592    \n",
       "IGHG1                                                0.815256    \n",
       "...                                                       ...    \n",
       "TXNDC17                                              0.862210    \n",
       "NUDCD3                                               0.817391    \n",
       "TRIM33                                               0.866197    \n",
       "DIRAS3                                               0.829804    \n",
       "ELMOD2                                               0.854487    \n",
       "\n",
       "            genomic_reads_fraction_bases_quality_above_30_variance  \\\n",
       "featurekey                                                           \n",
       "HBA1                                                 0.068981        \n",
       "HBB                                                  0.039815        \n",
       "HBA2                                                 0.066890        \n",
       "HBD                                                  0.046093        \n",
       "IGHG1                                                0.052244        \n",
       "...                                                       ...        \n",
       "TXNDC17                                              0.036658        \n",
       "NUDCD3                                               0.045858        \n",
       "TRIM33                                               0.028603        \n",
       "DIRAS3                                                    NaN        \n",
       "ELMOD2                                                    NaN        \n",
       "\n",
       "            molecule_barcode_fraction_bases_above_30_mean  ...  \\\n",
       "featurekey                                                 ...   \n",
       "HBA1                                             0.962203  ...   \n",
       "HBB                                              0.967429  ...   \n",
       "HBA2                                             0.962076  ...   \n",
       "HBD                                              0.969114  ...   \n",
       "IGHG1                                            0.957616  ...   \n",
       "...                                                   ...  ...   \n",
       "TXNDC17                                          0.973419  ...   \n",
       "NUDCD3                                           0.964481  ...   \n",
       "TRIM33                                           0.973820  ...   \n",
       "DIRAS3                                           0.963732  ...   \n",
       "ELMOD2                                           0.975985  ...   \n",
       "\n",
       "            reads_per_molecule  spliced_reads  n_cells  percent_cells  robust  \\\n",
       "featurekey                                                                      \n",
       "HBA1                  5.802186       577815.0      159      46.491228    True   \n",
       "HBB                   9.454004       860877.0      239      69.883041    True   \n",
       "HBA2                  5.737326       577578.0      163      47.660819    True   \n",
       "HBD                   8.422227        23998.0       95      27.777778    True   \n",
       "IGHG1                 5.469046         4070.0       68      19.883041    True   \n",
       "...                        ...            ...      ...            ...     ...   \n",
       "TXNDC17               7.621002        12549.0       51      14.912281    True   \n",
       "NUDCD3                5.332378           53.0       10       2.923977    True   \n",
       "TRIM33                6.083503          288.0       20       5.847953    True   \n",
       "DIRAS3                4.733333            0.0        3       0.877193    True   \n",
       "ELMOD2                5.929348          310.0       13       3.801170    True   \n",
       "\n",
       "            highly_variable_features      mean        var  hvf_loess  hvf_rank  \n",
       "featurekey                                                                      \n",
       "HBA1                            True  3.144765  15.499605   6.734579         1  \n",
       "HBB                             True  4.692738  16.543134   7.693554         2  \n",
       "HBA2                            True  3.072382  14.293973   6.623949         3  \n",
       "HBD                             True  1.635301   7.944987   4.249269        30  \n",
       "IGHG1                           True  0.980620   5.229134   2.819322        35  \n",
       "...                              ...       ...        ...        ...       ...  \n",
       "TXNDC17                         True  0.512316   1.673697   1.608816      3983  \n",
       "NUDCD3                          True  0.100637   0.353429   0.326560      3984  \n",
       "TRIM33                          True  0.198414   0.676026   0.635575      3987  \n",
       "DIRAS3                          True  0.032149   0.117785   0.103954      3994  \n",
       "ELMOD2                          True  0.123075   0.429287   0.399070      3994  \n",
       "\n",
       "[2000 rows x 35 columns]"
      ]
     },
     "execution_count": 22,
     "metadata": {},
     "output_type": "execute_result"
    }
   ],
   "source": [
    "data.var.loc[data.var['highly_variable_features']].sort_values(by='hvf_rank')"
   ]
  },
  {
   "cell_type": "markdown",
   "id": "312002e8",
   "metadata": {},
   "source": [
    "We can also view HVGs in a scatterplot:"
   ]
  },
  {
   "cell_type": "code",
   "execution_count": 23,
   "id": "a6cd7116",
   "metadata": {},
   "outputs": [
    {
     "data": {
      "image/png": "[encoded data removed]",
      "text/plain": [
       "<Figure size 900x600 with 1 Axes>"
      ]
     },
     "metadata": {
      "needs_background": "light"
     },
     "output_type": "display_data"
    }
   ],
   "source": [
    "pg.hvfplot(data, dpi=150)"
   ]
  },
  {
   "cell_type": "markdown",
   "id": "73206994",
   "metadata": {},
   "source": [
    "In this plot, each point stands for one gene. Blue points are selected to be HVFs, which account for the majority of variation of the dataset."
   ]
  },
  {
   "cell_type": "markdown",
   "id": "5f154fbf",
   "metadata": {},
   "source": [
    "### Principal Component Analysis\n",
    "\n",
    "To reduce the dimension of data, Principal Component Analysis (PCA) is widely used. Briefly speaking, PCA transforms the data from original dimensions into a new set of Principal Components (PC) of a much smaller size. In the transformed data, dimension is reduced, while PCs still cover a majority of the variation of data. Moreover, the new dimensions (i.e. PCs) are independent with each other.\n",
    "\n",
    "Pegasus uses the following method to perform PCA:"
   ]
  },
  {
   "cell_type": "code",
   "execution_count": 24,
   "id": "640234cf",
   "metadata": {},
   "outputs": [
    {
     "name": "stdout",
     "output_type": "stream",
     "text": [
      "2021-05-12 22:51:14,441 - pegasus.tools.preprocessing - INFO - Function 'pca' finished in 0.13s.\n"
     ]
    }
   ],
   "source": [
    "pg.pca(data)"
   ]
  },
  {
   "cell_type": "markdown",
   "id": "65014a32",
   "metadata": {},
   "source": [
    "By default, pca uses:\n",
    "* Before PCA, scale the data to standard Normal distribution N(0,1), and truncate them with max value 10;\n",
    "* Number of PCs to compute: 50;\n",
    "* Apply PCA only to highly variable features.\n",
    "\n",
    "See [its documentation](https://pegasus.readthedocs.io/en/stable/api/pegasus.pca.html) for customization.\n",
    "\n",
    "You can then create a scatter plot on this PCA embedding, specifying one gene, such as CST3:"
   ]
  },
  {
   "cell_type": "code",
   "execution_count": 25,
   "id": "b69cf009",
   "metadata": {},
   "outputs": [
    {
     "data": {
      "image/png": "[encoded data removed]",
      "text/plain": [
       "<Figure size 640x520 with 2 Axes>"
      ]
     },
     "metadata": {
      "needs_background": "light"
     },
     "output_type": "display_data"
    }
   ],
   "source": [
    "pg.scatter(data, basis='pca', attrs=['CST3'], dpi=100, cmaps='viridis')"
   ]
  },
  {
   "cell_type": "markdown",
   "id": "d850861e",
   "metadata": {},
   "source": [
    "### Clustering\n",
    "\n",
    "All the downstream analysis, including clustering and visualization, needs to construct a k-Nearest-Neighbor (kNN) graph on cells. We can build such a graph using `neighbors` function:"
   ]
  },
  {
   "cell_type": "code",
   "execution_count": 26,
   "id": "7fee4cdb",
   "metadata": {},
   "outputs": [
    {
     "name": "stdout",
     "output_type": "stream",
     "text": [
      "2021-05-12 22:51:14,707 - pegasus.tools.nearest_neighbors - INFO - Function 'get_neighbors' finished in 0.11s.\n",
      "2021-05-12 22:51:14,717 - pegasus.tools.nearest_neighbors - INFO - Function 'calculate_affinity_matrix' finished in 0.01s.\n"
     ]
    }
   ],
   "source": [
    "pg.neighbors(data, K=10)"
   ]
  },
  {
   "cell_type": "markdown",
   "id": "ddbfae38",
   "metadata": {},
   "source": [
    "It uses the following setting:\n",
    "* For each cell, calculate its 10 nearest neighbors;\n",
    "* Use PCA matrix for calculation (*Default*);\n",
    "* Use Euclidean (L2) distance as the metric;\n",
    "* Use [hnswlib](https://github.com/nmslib/hnswlib) search algorithm to calculate the approximated nearest neighbors in a really short time.\n",
    "\n",
    "See [its documentation](https://pegasus.readthedocs.io/en/stable/api/pegasus.neighbors.html) for customization.\n",
    "\n",
    "Now we are ready to cluster the data using community-detection algorithms. Pegasus provides 4 such methods (see [details](https://pegasus.readthedocs.io/en/stable/api/index.html#cluster-algorithms)):\n",
    "* `louvain`: Louvain algorithm, by [[Blondel et al., 2008]](https://iopscience.iop.org/article/10.1088/1742-5468/2008/10/P10008/meta).\n",
    "* `leiden`: Leiden algorithm, by [[Traag et al., 2019]](https://www.nature.com/articles/s41598-019-41695-z)\n",
    "* `spectral_louvain`: Spectral Louvain algorithm, which requires Diffusion Map. ([[Li et al., 2020]](https://www.nature.com/articles/s41592-020-0905-x))\n",
    "* `spectral_leiden`: Spectral Leiden algorithm, which requires Diffusion Map. ([[Li et al., 2020]](https://www.nature.com/articles/s41592-020-0905-x))\n",
    "\n",
    "In this tutorial, we use Leiden algorithm:"
   ]
  },
  {
   "cell_type": "code",
   "execution_count": 27,
   "id": "d9989005",
   "metadata": {},
   "outputs": [
    {
     "name": "stdout",
     "output_type": "stream",
     "text": [
      "2021-05-12 22:51:14,731 - pegasus.tools.graph_operations - INFO - Function 'construct_graph' finished in 0.00s.\n",
      "2021-05-12 22:51:14,738 - pegasus.tools.clustering - INFO - Leiden clustering is done. Get 9 clusters.\n",
      "2021-05-12 22:51:14,739 - pegasus.tools.clustering - INFO - Function 'leiden' finished in 0.02s.\n"
     ]
    }
   ],
   "source": [
    "pg.leiden(data, resolution=1.0)"
   ]
  },
  {
   "cell_type": "markdown",
   "id": "a65efd76",
   "metadata": {},
   "source": [
    "The `resolution` parameter indirectly determines the number of clusters. See [here](https://pegasus.readthedocs.io/en/stable/api/pegasus.leiden.html#pegasus.leiden) for details.\n",
    "\n",
    "As a result, we achieve 9 clusters, with cluster labels stored as `leiden_labels` attribute in `obs` field:"
   ]
  },
  {
   "cell_type": "code",
   "execution_count": 28,
   "id": "1001a3fd",
   "metadata": {},
   "outputs": [
    {
     "data": {
      "text/plain": [
       "1    69\n",
       "2    60\n",
       "3    60\n",
       "4    40\n",
       "5    33\n",
       "6    28\n",
       "7    25\n",
       "8    17\n",
       "9    10\n",
       "Name: leiden_labels, dtype: int64"
      ]
     },
     "execution_count": 28,
     "metadata": {},
     "output_type": "execute_result"
    }
   ],
   "source": [
    "data.obs['leiden_labels'].value_counts()"
   ]
  },
  {
   "cell_type": "markdown",
   "id": "8ddcd5fc",
   "metadata": {},
   "source": [
    "### Visualization\n",
    "\n",
    "Pegasus provides these visualization methods: tSNE, UMAP, and FLE (Force-directed Layout). In this tutorial, we only show UMAP. You can see [here](https://pegasus.readthedocs.io/en/stable/api/index.html#visualization-algorithms) for a complete list of all available visualization methods.\n",
    "\n",
    "The UMAP embedding of cells are calculated as below:"
   ]
  },
  {
   "cell_type": "code",
   "execution_count": 29,
   "id": "dd2a4d94",
   "metadata": {},
   "outputs": [
    {
     "name": "stdout",
     "output_type": "stream",
     "text": [
      "2021-05-12 22:51:14,858 - pegasus.tools.nearest_neighbors - INFO - Function 'get_neighbors' finished in 0.11s.\n",
      "UMAP(dens_frac=0.0, dens_lambda=0.0, min_dist=0.5, random_state=0, verbose=True)\n",
      "Construct fuzzy simplicial set\n",
      "Wed May 12 22:51:15 2021 Finding Nearest Neighbors\n",
      "Wed May 12 22:51:16 2021 Finished Nearest Neighbor Search\n",
      "Wed May 12 22:51:18 2021 Construct embedding\n",
      "\tcompleted  0  /  500 epochs\n",
      "\tcompleted  50  /  500 epochs\n",
      "\tcompleted  100  /  500 epochs\n",
      "\tcompleted  150  /  500 epochs\n",
      "\tcompleted  200  /  500 epochs\n",
      "\tcompleted  250  /  500 epochs\n",
      "\tcompleted  300  /  500 epochs\n",
      "\tcompleted  350  /  500 epochs\n",
      "\tcompleted  400  /  500 epochs\n",
      "\tcompleted  450  /  500 epochs\n",
      "Wed May 12 22:51:19 2021 Finished embedding\n",
      "2021-05-12 22:51:19,585 - pegasus.tools.visualization - INFO - Using umap kNN graph because number of cells 342 is smaller than 4096 or knn_indices is not provided.\n",
      "2021-05-12 22:51:19,585 - pegasus.tools.visualization - INFO - Function 'umap' finished in 4.83s.\n"
     ]
    }
   ],
   "source": [
    "pg.umap(data)"
   ]
  },
  {
   "cell_type": "markdown",
   "id": "d166ec20",
   "metadata": {},
   "source": [
    "Now we can see scatter plots using UMAP embedding (*Default*) on cluster labels, as well as genes (e.g. CST3, NKG7, PPBP), of cells:"
   ]
  },
  {
   "cell_type": "code",
   "execution_count": 30,
   "id": "0cfe2de0",
   "metadata": {},
   "outputs": [
    {
     "data": {
      "image/png": "[encoded data removed]",
      "text/plain": [
       "<Figure size 1200x980 with 7 Axes>"
      ]
     },
     "metadata": {
      "needs_background": "light"
     },
     "output_type": "display_data"
    }
   ],
   "source": [
    "pg.scatter(data, attrs=['leiden_labels', 'CST3', 'NKG7', 'PPBP'], dpi=100)"
   ]
  },
  {
   "cell_type": "markdown",
   "id": "add7906a",
   "metadata": {},
   "source": [
    "### Differential Expression Analysis\n",
    "\n",
    "With the clusters ready, we can now perform Differential Expression (DE) Analysis. DE analysis is to discover cluster-specific marker genes. For each cluster, it compares cells within the cluster with all the others, then finds genes significantly highly expressed (up-regulated) and lowly expressed (down-regulated) for the cluster.\n",
    "\n",
    "Now use `de_analysis` function to run DE analysis. We use Leiden result here:"
   ]
  },
  {
   "cell_type": "code",
   "execution_count": 31,
   "id": "07fe542d",
   "metadata": {},
   "outputs": [
    {
     "name": "stdout",
     "output_type": "stream",
     "text": [
      "2021-05-12 22:51:20,009 - pegasus.tools.diff_expr - INFO - CSR matrix is converted to CSC matrix. Time spent = 0.0044s.\n",
      "2021-05-12 22:51:35,485 - pegasus.tools.diff_expr - INFO - MWU test and AUROC calculation are finished. Time spent = 15.4757s.\n",
      "2021-05-12 22:51:35,513 - pegasus.tools.diff_expr - INFO - Sufficient statistics are collected. Time spent = 0.0285s.\n",
      "2021-05-12 22:51:35,553 - pegasus.tools.diff_expr - INFO - Differential expression analysis is finished.\n",
      "2021-05-12 22:51:35,553 - pegasus.tools.diff_expr - INFO - Function 'de_analysis' finished in 15.55s.\n"
     ]
    }
   ],
   "source": [
    "pg.de_analysis(data, cluster='leiden_labels')"
   ]
  },
  {
   "cell_type": "markdown",
   "id": "d3fd6c98",
   "metadata": {},
   "source": [
    "By default, DE analysis runs Mann-Whitney U (MWU) test only, which is a nonparametric significance test and usually performs better on single-cell genomics data.\n",
    "\n",
    "Alternatively, you can also run the follow tests by setting their corresponding parameters to be `True` in `de_analysis` function:\n",
    "* `fisher`: Fisher’s exact test.\n",
    "* `t`: Welch’s T test.\n",
    "\n",
    "DE analysis result is stored with key `de_res` (by default) in `varm` field of data. See [documentation](https://pegasus.readthedocs.io/en/stable/api/pegasus.de_analysis.html) for more details.\n",
    "\n",
    "To load the result in a human-readable format, use `markers` method:"
   ]
  },
  {
   "cell_type": "code",
   "execution_count": 32,
   "id": "b631b1cb",
   "metadata": {},
   "outputs": [],
   "source": [
    "marker_dict = pg.markers(data)"
   ]
  },
  {
   "cell_type": "markdown",
   "id": "550aae2f",
   "metadata": {},
   "source": [
    "By default, `markers` function:\n",
    "* Sorts genes by Area under ROC curve (AUROC) in descending order;\n",
    "* Selects significant genes in False Discover Rate (FDR) control of $\\alpha = 0.05$.\n",
    "\n",
    "See [documentation](https://pegasus.readthedocs.io/en/stable/api/pegasus.markers.html) for customizing these settings.\n",
    "\n",
    "Let's see the up-regulated genes for Cluster 2, and rank them in descending order with respect to log fold change:"
   ]
  },
  {
   "cell_type": "code",
   "execution_count": 33,
   "id": "de19a59d",
   "metadata": {},
   "outputs": [
    {
     "data": {
      "text/html": [
       "<div>\n",
       "<style scoped>\n",
       "    .dataframe tbody tr th:only-of-type {\n",
       "        vertical-align: middle;\n",
       "    }\n",
       "\n",
       "    .dataframe tbody tr th {\n",
       "        vertical-align: top;\n",
       "    }\n",
       "\n",
       "    .dataframe thead th {\n",
       "        text-align: right;\n",
       "    }\n",
       "</style>\n",
       "<table border=\"1\" class=\"dataframe\">\n",
       "  <thead>\n",
       "    <tr style=\"text-align: right;\">\n",
       "      <th></th>\n",
       "      <th>log2Mean</th>\n",
       "      <th>log2Mean_other</th>\n",
       "      <th>log2FC</th>\n",
       "      <th>percentage</th>\n",
       "      <th>percentage_other</th>\n",
       "      <th>percentage_fold_change</th>\n",
       "      <th>auroc</th>\n",
       "      <th>mwu_U</th>\n",
       "      <th>mwu_pval</th>\n",
       "      <th>mwu_qval</th>\n",
       "    </tr>\n",
       "    <tr>\n",
       "      <th>feature</th>\n",
       "      <th></th>\n",
       "      <th></th>\n",
       "      <th></th>\n",
       "      <th></th>\n",
       "      <th></th>\n",
       "      <th></th>\n",
       "      <th></th>\n",
       "      <th></th>\n",
       "      <th></th>\n",
       "      <th></th>\n",
       "    </tr>\n",
       "  </thead>\n",
       "  <tbody>\n",
       "    <tr>\n",
       "      <th>RPL10P9</th>\n",
       "      <td>9.244493</td>\n",
       "      <td>4.299086</td>\n",
       "      <td>4.945407</td>\n",
       "      <td>98.333336</td>\n",
       "      <td>53.900711</td>\n",
       "      <td>1.824342e+00</td>\n",
       "      <td>0.877128</td>\n",
       "      <td>14841.0</td>\n",
       "      <td>3.587048e-21</td>\n",
       "      <td>2.090053e-18</td>\n",
       "    </tr>\n",
       "    <tr>\n",
       "      <th>RPS29</th>\n",
       "      <td>9.098837</td>\n",
       "      <td>4.217833</td>\n",
       "      <td>4.881004</td>\n",
       "      <td>98.333336</td>\n",
       "      <td>55.319149</td>\n",
       "      <td>1.777564e+00</td>\n",
       "      <td>0.924291</td>\n",
       "      <td>15639.0</td>\n",
       "      <td>3.070602e-26</td>\n",
       "      <td>3.833866e-23</td>\n",
       "    </tr>\n",
       "    <tr>\n",
       "      <th>IL32</th>\n",
       "      <td>5.122840</td>\n",
       "      <td>0.459192</td>\n",
       "      <td>4.663648</td>\n",
       "      <td>71.666664</td>\n",
       "      <td>8.510638</td>\n",
       "      <td>8.420833e+00</td>\n",
       "      <td>0.836939</td>\n",
       "      <td>14161.0</td>\n",
       "      <td>2.727337e-32</td>\n",
       "      <td>2.383692e-28</td>\n",
       "    </tr>\n",
       "    <tr>\n",
       "      <th>RPL10</th>\n",
       "      <td>9.683189</td>\n",
       "      <td>5.069748</td>\n",
       "      <td>4.613441</td>\n",
       "      <td>100.000000</td>\n",
       "      <td>59.929077</td>\n",
       "      <td>1.668639e+00</td>\n",
       "      <td>0.851891</td>\n",
       "      <td>14414.0</td>\n",
       "      <td>2.793777e-18</td>\n",
       "      <td>1.109892e-15</td>\n",
       "    </tr>\n",
       "    <tr>\n",
       "      <th>CXCR4</th>\n",
       "      <td>5.242779</td>\n",
       "      <td>0.631967</td>\n",
       "      <td>4.610812</td>\n",
       "      <td>78.333336</td>\n",
       "      <td>13.120567</td>\n",
       "      <td>5.970271e+00</td>\n",
       "      <td>0.864391</td>\n",
       "      <td>14625.5</td>\n",
       "      <td>8.443772e-32</td>\n",
       "      <td>4.919905e-28</td>\n",
       "    </tr>\n",
       "    <tr>\n",
       "      <th>...</th>\n",
       "      <td>...</td>\n",
       "      <td>...</td>\n",
       "      <td>...</td>\n",
       "      <td>...</td>\n",
       "      <td>...</td>\n",
       "      <td>...</td>\n",
       "      <td>...</td>\n",
       "      <td>...</td>\n",
       "      <td>...</td>\n",
       "      <td>...</td>\n",
       "    </tr>\n",
       "    <tr>\n",
       "      <th>XRCC3</th>\n",
       "      <td>0.142940</td>\n",
       "      <td>0.000000</td>\n",
       "      <td>0.142940</td>\n",
       "      <td>3.333333</td>\n",
       "      <td>0.000000</td>\n",
       "      <td>1.000000e+30</td>\n",
       "      <td>0.516667</td>\n",
       "      <td>8742.0</td>\n",
       "      <td>2.176772e-03</td>\n",
       "      <td>3.283000e-02</td>\n",
       "    </tr>\n",
       "    <tr>\n",
       "      <th>AC010168.2</th>\n",
       "      <td>0.142703</td>\n",
       "      <td>0.000000</td>\n",
       "      <td>0.142703</td>\n",
       "      <td>3.333333</td>\n",
       "      <td>0.000000</td>\n",
       "      <td>1.000000e+30</td>\n",
       "      <td>0.516667</td>\n",
       "      <td>8742.0</td>\n",
       "      <td>2.176772e-03</td>\n",
       "      <td>3.283000e-02</td>\n",
       "    </tr>\n",
       "    <tr>\n",
       "      <th>ZNF737</th>\n",
       "      <td>0.141168</td>\n",
       "      <td>0.000000</td>\n",
       "      <td>0.141168</td>\n",
       "      <td>3.333333</td>\n",
       "      <td>0.000000</td>\n",
       "      <td>1.000000e+30</td>\n",
       "      <td>0.516667</td>\n",
       "      <td>8742.0</td>\n",
       "      <td>2.176772e-03</td>\n",
       "      <td>3.283000e-02</td>\n",
       "    </tr>\n",
       "    <tr>\n",
       "      <th>C1orf186</th>\n",
       "      <td>0.139050</td>\n",
       "      <td>0.000000</td>\n",
       "      <td>0.139050</td>\n",
       "      <td>3.333333</td>\n",
       "      <td>0.000000</td>\n",
       "      <td>1.000000e+30</td>\n",
       "      <td>0.516667</td>\n",
       "      <td>8742.0</td>\n",
       "      <td>2.176772e-03</td>\n",
       "      <td>3.283000e-02</td>\n",
       "    </tr>\n",
       "    <tr>\n",
       "      <th>CD1C</th>\n",
       "      <td>0.139050</td>\n",
       "      <td>0.000000</td>\n",
       "      <td>0.139050</td>\n",
       "      <td>3.333333</td>\n",
       "      <td>0.000000</td>\n",
       "      <td>1.000000e+30</td>\n",
       "      <td>0.516667</td>\n",
       "      <td>8742.0</td>\n",
       "      <td>2.176772e-03</td>\n",
       "      <td>3.283000e-02</td>\n",
       "    </tr>\n",
       "  </tbody>\n",
       "</table>\n",
       "<p>1214 rows × 10 columns</p>\n",
       "</div>"
      ],
      "text/plain": [
       "            log2Mean  log2Mean_other    log2FC  percentage  percentage_other  \\\n",
       "feature                                                                        \n",
       "RPL10P9     9.244493        4.299086  4.945407   98.333336         53.900711   \n",
       "RPS29       9.098837        4.217833  4.881004   98.333336         55.319149   \n",
       "IL32        5.122840        0.459192  4.663648   71.666664          8.510638   \n",
       "RPL10       9.683189        5.069748  4.613441  100.000000         59.929077   \n",
       "CXCR4       5.242779        0.631967  4.610812   78.333336         13.120567   \n",
       "...              ...             ...       ...         ...               ...   \n",
       "XRCC3       0.142940        0.000000  0.142940    3.333333          0.000000   \n",
       "AC010168.2  0.142703        0.000000  0.142703    3.333333          0.000000   \n",
       "ZNF737      0.141168        0.000000  0.141168    3.333333          0.000000   \n",
       "C1orf186    0.139050        0.000000  0.139050    3.333333          0.000000   \n",
       "CD1C        0.139050        0.000000  0.139050    3.333333          0.000000   \n",
       "\n",
       "            percentage_fold_change     auroc    mwu_U      mwu_pval  \\\n",
       "feature                                                               \n",
       "RPL10P9               1.824342e+00  0.877128  14841.0  3.587048e-21   \n",
       "RPS29                 1.777564e+00  0.924291  15639.0  3.070602e-26   \n",
       "IL32                  8.420833e+00  0.836939  14161.0  2.727337e-32   \n",
       "RPL10                 1.668639e+00  0.851891  14414.0  2.793777e-18   \n",
       "CXCR4                 5.970271e+00  0.864391  14625.5  8.443772e-32   \n",
       "...                            ...       ...      ...           ...   \n",
       "XRCC3                 1.000000e+30  0.516667   8742.0  2.176772e-03   \n",
       "AC010168.2            1.000000e+30  0.516667   8742.0  2.176772e-03   \n",
       "ZNF737                1.000000e+30  0.516667   8742.0  2.176772e-03   \n",
       "C1orf186              1.000000e+30  0.516667   8742.0  2.176772e-03   \n",
       "CD1C                  1.000000e+30  0.516667   8742.0  2.176772e-03   \n",
       "\n",
       "                mwu_qval  \n",
       "feature                   \n",
       "RPL10P9     2.090053e-18  \n",
       "RPS29       3.833866e-23  \n",
       "IL32        2.383692e-28  \n",
       "RPL10       1.109892e-15  \n",
       "CXCR4       4.919905e-28  \n",
       "...                  ...  \n",
       "XRCC3       3.283000e-02  \n",
       "AC010168.2  3.283000e-02  \n",
       "ZNF737      3.283000e-02  \n",
       "C1orf186    3.283000e-02  \n",
       "CD1C        3.283000e-02  \n",
       "\n",
       "[1214 rows x 10 columns]"
      ]
     },
     "execution_count": 33,
     "metadata": {},
     "output_type": "execute_result"
    }
   ],
   "source": [
    "marker_dict['2']['up'].sort_values(by='log2FC', ascending=False)"
   ]
  },
  {
   "cell_type": "markdown",
   "id": "68486fe5",
   "metadata": {},
   "source": [
    "We can also use Volcano plot to see the DE result. Below is such a plot w.r.t. Cluster 2 with MWU test results (by default):"
   ]
  },
  {
   "cell_type": "code",
   "execution_count": 34,
   "id": "e1748e5e",
   "metadata": {},
   "outputs": [
    {
     "data": {
      "image/png": "[encoded data removed]",
      "text/plain": [
       "<Figure size 900x600 with 1 Axes>"
      ]
     },
     "metadata": {
      "needs_background": "light"
     },
     "output_type": "display_data"
    }
   ],
   "source": [
    "pg.volcano(data, cluster_id = '2', dpi=150)"
   ]
  },
  {
   "cell_type": "markdown",
   "id": "1581b216",
   "metadata": {},
   "source": [
    "The plot above uses the default thresholds: log fold change at $1$ (i.e. fold change at $2$), and p-value under FDR control at $0.05$. Each point stands for a gene. Red ones are significant marker genes: those at right-hand side are up-regulated genes for Cluster 2, while those at left-hand side are down-regulated genes. Besides, only show top 20 genes at both sides regarding log fold change.\n",
    "\n",
    "See [its documentation](https://pegasus.readthedocs.io/en/stable/api/pegasus.volcano.html) for customization.\n",
    "\n",
    "To store the whole DE analysis result to file, you can use `write_results_to_excel` function:"
   ]
  },
  {
   "cell_type": "code",
   "execution_count": 35,
   "id": "c6e4e24c",
   "metadata": {},
   "outputs": [
    {
     "name": "stdout",
     "output_type": "stream",
     "text": [
      "2021-05-12 22:51:54,508 - pegasus.tools.diff_expr - INFO - Excel spreadsheet is written.\n",
      "2021-05-12 22:51:54,520 - pegasus.tools.diff_expr - INFO - Function 'write_results_to_excel' finished in 1.83s.\n"
     ]
    }
   ],
   "source": [
    "pg.write_results_to_excel(marker_dict, \"human_liver_channel_0.de.xlsx\")"
   ]
  },
  {
   "cell_type": "markdown",
   "id": "18cec6d4",
   "metadata": {},
   "source": [
    "## Raw Count vs Log-norm Count\n",
    "\n",
    "Now let's check the count matrix of one donor:"
   ]
  },
  {
   "cell_type": "code",
   "execution_count": 36,
   "id": "31b9007c",
   "metadata": {},
   "outputs": [
    {
     "data": {
      "text/plain": [
       "MultimodalData object with 1 UnimodalData: 'human-rna'\n",
       "    It currently binds to UnimodalData object human-rna\n",
       "\n",
       "UnimodalData object with n_obs x n_vars = 342 x 17480\n",
       "    Genome: human; Modality: rna\n",
       "    It contains 2 matrices: 'X', 'raw.X'\n",
       "    It currently binds to matrix 'X' as X\n",
       "\n",
       "    obs: 'antisense_reads', 'cell_barcode_fraction_bases_above_30_mean', 'cell_barcode_fraction_bases_above_30_variance', 'duplicate_reads', 'emptydrops_FDR', 'emptydrops_IsCell', 'emptydrops_Limited', 'emptydrops_LogProb', 'emptydrops_PValue', 'emptydrops_Total', 'fragments_per_molecule', 'fragments_with_single_read_evidence', 'genes_detected_multiple_observations', 'genomic_read_quality_mean', 'genomic_read_quality_variance', 'genomic_reads_fraction_bases_quality_above_30_mean', 'genomic_reads_fraction_bases_quality_above_30_variance', 'input_id', 'molecule_barcode_fraction_bases_above_30_mean', 'molecule_barcode_fraction_bases_above_30_variance', 'molecules_with_single_read_evidence', 'n_fragments', 'n_genes', 'n_mitochondrial_genes', 'n_mitochondrial_molecules', 'n_molecules', 'n_reads', 'noise_reads', 'pct_mitochondrial_molecules', 'perfect_cell_barcodes', 'perfect_molecule_barcodes', 'reads_mapped_exonic', 'reads_mapped_intergenic', 'reads_mapped_intronic', 'reads_mapped_multiple', 'reads_mapped_too_many_loci', 'reads_mapped_uniquely', 'reads_mapped_utr', 'reads_per_fragment', 'reads_unmapped', 'spliced_reads', 'Channel', 'n_counts', 'percent_mito', 'scale', 'leiden_labels'\n",
       "    var: 'antisense_reads', 'duplicate_reads', 'featureid', 'fragments_per_molecule', 'fragments_with_single_read_evidence', 'genomic_read_quality_mean', 'genomic_read_quality_variance', 'genomic_reads_fraction_bases_quality_above_30_mean', 'genomic_reads_fraction_bases_quality_above_30_variance', 'molecule_barcode_fraction_bases_above_30_mean', 'molecule_barcode_fraction_bases_above_30_variance', 'molecules_with_single_read_evidence', 'n_fragments', 'n_molecules', 'n_reads', 'noise_reads', 'number_cells_detected_multiple', 'number_cells_expressing', 'perfect_molecule_barcodes', 'reads_mapped_exonic', 'reads_mapped_intronic', 'reads_mapped_multiple', 'reads_mapped_uniquely', 'reads_mapped_utr', 'reads_per_fragment', 'reads_per_molecule', 'spliced_reads', 'n_cells', 'percent_cells', 'robust', 'highly_variable_features', 'mean', 'var', 'hvf_loess', 'hvf_rank'\n",
       "    obsm: 'X_pca', 'X_umap'\n",
       "    varm: 'de_res'\n",
       "    uns: 'genome', 'modality', 'df_qcplot', 'norm_count', 'Channels', 'stdzn_mean', 'stdzn_std', 'stdzn_max_value', '_tmp_fmat_highly_variable_features', 'PCs', 'pca', 'pca_features', 'pca_knn_indices', 'pca_knn_distances', 'W_pca', 'leiden_resolution'"
      ]
     },
     "execution_count": 36,
     "metadata": {},
     "output_type": "execute_result"
    }
   ],
   "source": [
    "data"
   ]
  },
  {
   "cell_type": "markdown",
   "id": "596372c0",
   "metadata": {},
   "source": [
    "You can see that besides `X`, there is another matrix `raw.X` generated for this analysis. As the key name indicates, `raw.X` stores the raw count matrix, which is the one achieved immediately after subsetting; while `X` stores the log-normalized counts.\n",
    "\n",
    "`data` currently binds to matrix `X`. To use the raw count instead, type:"
   ]
  },
  {
   "cell_type": "code",
   "execution_count": 37,
   "id": "b53933e5",
   "metadata": {},
   "outputs": [
    {
     "data": {
      "text/plain": [
       "MultimodalData object with 1 UnimodalData: 'human-rna'\n",
       "    It currently binds to UnimodalData object human-rna\n",
       "\n",
       "UnimodalData object with n_obs x n_vars = 342 x 17480\n",
       "    Genome: human; Modality: rna\n",
       "    It contains 2 matrices: 'X', 'raw.X'\n",
       "    It currently binds to matrix 'raw.X' as X\n",
       "\n",
       "    obs: 'antisense_reads', 'cell_barcode_fraction_bases_above_30_mean', 'cell_barcode_fraction_bases_above_30_variance', 'duplicate_reads', 'emptydrops_FDR', 'emptydrops_IsCell', 'emptydrops_Limited', 'emptydrops_LogProb', 'emptydrops_PValue', 'emptydrops_Total', 'fragments_per_molecule', 'fragments_with_single_read_evidence', 'genes_detected_multiple_observations', 'genomic_read_quality_mean', 'genomic_read_quality_variance', 'genomic_reads_fraction_bases_quality_above_30_mean', 'genomic_reads_fraction_bases_quality_above_30_variance', 'input_id', 'molecule_barcode_fraction_bases_above_30_mean', 'molecule_barcode_fraction_bases_above_30_variance', 'molecules_with_single_read_evidence', 'n_fragments', 'n_genes', 'n_mitochondrial_genes', 'n_mitochondrial_molecules', 'n_molecules', 'n_reads', 'noise_reads', 'pct_mitochondrial_molecules', 'perfect_cell_barcodes', 'perfect_molecule_barcodes', 'reads_mapped_exonic', 'reads_mapped_intergenic', 'reads_mapped_intronic', 'reads_mapped_multiple', 'reads_mapped_too_many_loci', 'reads_mapped_uniquely', 'reads_mapped_utr', 'reads_per_fragment', 'reads_unmapped', 'spliced_reads', 'Channel', 'n_counts', 'percent_mito', 'scale', 'leiden_labels'\n",
       "    var: 'antisense_reads', 'duplicate_reads', 'featureid', 'fragments_per_molecule', 'fragments_with_single_read_evidence', 'genomic_read_quality_mean', 'genomic_read_quality_variance', 'genomic_reads_fraction_bases_quality_above_30_mean', 'genomic_reads_fraction_bases_quality_above_30_variance', 'molecule_barcode_fraction_bases_above_30_mean', 'molecule_barcode_fraction_bases_above_30_variance', 'molecules_with_single_read_evidence', 'n_fragments', 'n_molecules', 'n_reads', 'noise_reads', 'number_cells_detected_multiple', 'number_cells_expressing', 'perfect_molecule_barcodes', 'reads_mapped_exonic', 'reads_mapped_intronic', 'reads_mapped_multiple', 'reads_mapped_uniquely', 'reads_mapped_utr', 'reads_per_fragment', 'reads_per_molecule', 'spliced_reads', 'n_cells', 'percent_cells', 'robust', 'highly_variable_features', 'mean', 'var', 'hvf_loess', 'hvf_rank'\n",
       "    obsm: 'X_pca', 'X_umap'\n",
       "    varm: 'de_res'\n",
       "    uns: 'genome', 'modality', 'df_qcplot', 'norm_count', 'Channels', 'stdzn_mean', 'stdzn_std', 'stdzn_max_value', '_tmp_fmat_highly_variable_features', 'PCs', 'pca', 'pca_features', 'pca_knn_indices', 'pca_knn_distances', 'W_pca', 'leiden_resolution'"
      ]
     },
     "execution_count": 37,
     "metadata": {},
     "output_type": "execute_result"
    }
   ],
   "source": [
    "data.select_matrix('raw.X')\n",
    "data"
   ]
  },
  {
   "cell_type": "markdown",
   "id": "598ff575",
   "metadata": {},
   "source": [
    "Now `data` binds to raw counts. You can switch back to log-normalized counts by:"
   ]
  },
  {
   "cell_type": "code",
   "execution_count": 38,
   "id": "2293e8b4",
   "metadata": {},
   "outputs": [],
   "source": [
    "data.select_matrix('X')"
   ]
  },
  {
   "cell_type": "markdown",
   "id": "d8d06d5b",
   "metadata": {},
   "source": [
    "## Save Results to Google Bucket\n",
    "\n",
    "When done with the analysis, you can use `write_output` function to save the resulting data to file:"
   ]
  },
  {
   "cell_type": "code",
   "execution_count": 39,
   "id": "e12f56bb",
   "metadata": {},
   "outputs": [
    {
     "name": "stdout",
     "output_type": "stream",
     "text": [
      "2021-05-12 22:51:54,540 - pegasusio.zarr_utils - WARNING - Detected and removed pre-existing file human_liver_channel_0.zarr.zip.\n",
      "2021-05-12 22:51:54,749 - pegasusio.readwrite - INFO - zarr.zip file 'human_liver_channel_0.zarr.zip' is written.\n",
      "2021-05-12 22:51:54,750 - pegasusio.readwrite - INFO - Function 'write_output' finished in 0.21s.\n"
     ]
    }
   ],
   "source": [
    "pg.write_output(data, \"human_liver_channel_0.zarr.zip\")"
   ]
  },
  {
   "cell_type": "markdown",
   "id": "ba3c314e",
   "metadata": {},
   "source": [
    "Similarly as `read_input`, `write_output` function also provides a unified API for writing count matrix to file of different formats (Loom, 10X HDF5, H5AD, Zarr, CSV, TSV, etc.) by simplying specifying the file extension. See [here](https://pegasus.readthedocs.io/en/stable/api/pegasus.write_output.html) for details.\n",
    "\n",
    "Finally, we need to send all the results from the Cloud environment to the Google bucket of the current workspace for storage. To do that, we need the bucket ID of the workspace, which can be achieved by:"
   ]
  },
  {
   "cell_type": "code",
   "execution_count": 40,
   "id": "39a79a89",
   "metadata": {},
   "outputs": [],
   "source": [
    "import os\n",
    "\n",
    "bucket = os.environ['WORKSPACE_BUCKET']"
   ]
  },
  {
   "cell_type": "markdown",
   "id": "4a9f6063",
   "metadata": {},
   "source": [
    "Now copy files to the target folder of the bucket using `gsutil`:"
   ]
  },
  {
   "cell_type": "code",
   "execution_count": 41,
   "id": "4f0f0727",
   "metadata": {},
   "outputs": [],
   "source": [
    "#!gsutil -m cp human_liver_channel_0.zarr.zip human_liver_channel_0.de.xlsx $bucket/hca_demo/"
   ]
  },
  {
   "cell_type": "markdown",
   "id": "e397f614",
   "metadata": {},
   "source": [
    "where `hca_demo` is the target folder name on the Google bucket, which is free to change."
   ]
  }
 ],
 "metadata": {
  "kernelspec": {
   "display_name": "Python 3",
   "language": "python",
   "name": "python3"
  },
  "language_info": {
   "codemirror_mode": {
    "name": "ipython",
    "version": 3
   },
   "file_extension": ".py",
   "mimetype": "text/x-python",
   "name": "python",
   "nbconvert_exporter": "python",
   "pygments_lexer": "ipython3",
   "version": "3.7.10"
  }
 },
 "nbformat": 4,
 "nbformat_minor": 5
}
