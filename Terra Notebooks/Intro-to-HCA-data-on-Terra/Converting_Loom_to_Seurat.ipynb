{
 "cells": [
  {
   "cell_type": "markdown",
   "metadata": {},
   "source": [
    "# Converting Loom to Seurat \n",
    "In this Jupyter Notebook, we explore how to import an example HCA cell by gene matrix in Loom format, explore it using the Bioconductor's AnVIL package, and convert it to a Seurat object that can be analyzed using the [Seurat Jupyter Notebook](https://app.terra.bio/#workspaces/featured-workspaces-hca/Intro-to-HCA-data-on-Terra/notebooks/launch/Seurat.ipynb).\n",
    "\n",
    "This tutorial uses the uniform cell-by-gene count matrix from the HCA project [\"Dissecting the human liver cellular landscape by single cell RNA-seq reveals novel intrahepatic monocyte/ macrophage populations\"](https://data.humancellatlas.org/explore/projects/4d6f6c96-2a83-43d8-8fe1-0f53bffd4674).\n",
    "\n",
    "Learn more about the data in \"[Single cell RNA sequencing of human liver reveals distinct intrahepatic macrophage populations](https://www.nature.com/articles/s41467-018-06318-7)\" (MacParland et al., 2018). "
   ]
  },
  {
   "cell_type": "markdown",
   "metadata": {},
   "source": [
    "## Notebook set-up\n",
    "\n",
    "### Setting the Cloud Environment\n",
    "This notebook uses the Terra R/Bioconductor base image (Python 3.7.10, R4.0.5) which you can select from the Cloud Environment widget at the top right of the Workspace. \n",
    "\n",
    "**Important! Please note the compute requirements for this notebook:**\n",
    "- Select **4 CPUs** under the cloud compute profile in the Cloud Environment widget\n",
    "- If you update the kernel after starting the notebook, delete the environment AND associated persistent disk before re-running the notebook\n",
    "\n",
    "### Running the notebook\n",
    "Prior to starting the notebook, we recommend restarting and clearing the kernel to remove outputs that were previously generated. This will help you understand what each code block is doing as the code is running. \n",
    "\n",
    "You can run the code blocks in this tutorial all at one time, or one-by-one. If you run each code block individually, make sure to run them in sequential order.\n",
    "\n",
    "**Running all cells at one time**\n",
    "\n",
    "To run all, select the \"Cell\" drop-down at the top of the notebook and choose \"Run All\".\n",
    "\n",
    "**Running each cell individually**\n",
    "\n",
    "You can run each cell individually in one of the following ways:\n",
    "- Clicking the `Run` icon at the top of the notebook\n",
    "- Using the shortcut shift return"
   ]
  },
  {
   "cell_type": "markdown",
   "metadata": {},
   "source": [
    "## Installing notebook packages\n",
    "Seurat is pre-installed on the R/Bioconductor base image in Terra. However, the code below installs additional Bioconductor and R packages (including the AnVIL and sceasy packages) that are useful for manipulating cloud files and for single-cell analysis.\n",
    "\n",
    "#### What is the AnvIL package? \n",
    "The Bioconductor [AnVIL package](https://bioconductor.org/packages/release/bioc/html/AnVIL.html) is a suite of tools for working with Terra workspaces, data tables and external cloud resources, and includes utilities for movings files between cloud storage and the Terra Cloud Environment.\n",
    "\n",
    "#### What is the sceasy package?\n",
    "The sceasy package is a suite of tools for converting between file formats commonly used for single-cell analysis, such as Loom, AnnData (h5ad), and SingleCellExperiment (RDS). \n",
    "\n",
    "The code below installs the sceasy package following instructions in readme: https://github.com/cellgeni/sceasy. However, it does not use the conda option for installing anndata and loompy. Instead, anndata and loompy are installed using the `system()` command below."
   ]
  },
  {
   "cell_type": "code",
   "execution_count": 1,
   "metadata": {},
   "outputs": [
    {
     "name": "stderr",
     "output_type": "stream",
     "text": [
      "Installing package into ‘/home/jupyter/notebooks/packages’\n",
      "(as ‘lib’ is unspecified)\n",
      "\n",
      "'getOption(\"repos\")' replaces Bioconductor standard repositories, see\n",
      "'?repositories' for details\n",
      "\n",
      "replacement repositories:\n",
      "    CRAN: https://cloud.r-project.org\n",
      "\n",
      "\n",
      "Bioconductor version 3.13 (BiocManager 1.30.16), R 4.1.0 (2021-05-18)\n",
      "\n",
      "Installing package(s) 'AnVIL', 'LoomExperiment'\n",
      "\n",
      "also installing the dependencies ‘Rhdf5lib’, ‘rhdf5filters’, ‘rapiclient’, ‘rhdf5’, ‘HDF5Array’\n",
      "\n",
      "\n",
      "Old packages: 'beachmat', 'bigrquery', 'BiocParallel', 'biomaRt', 'Biostrings',\n",
      "  'blob', 'broom', 'cachem', 'cli', 'credentials', 'DelayedMatrixStats',\n",
      "  'ensembldb', 'future', 'future.apply', 'GenomeInfoDb', 'GenomicFeatures',\n",
      "  'gert', 'googlesheets4', 'haven', 'htmltools', 'httpuv', 'isoband', 'jpeg',\n",
      "  'later', 'leiden', 'limma', 'MatrixGenerics', 'matrixStats', 'parallelly',\n",
      "  'pillar', 'R6', 'RcppAnnoy', 'RcppArmadillo', 'RCurl', 'readr', 'reprex',\n",
      "  'rmarkdown', 'RSQLite', 'rtracklayer', 'rvest', 'scuttle', 'Seurat',\n",
      "  'sparseMatrixStats', 'spatstat.core', 'spatstat.geom', 'stringi', 'survival',\n",
      "  'tibble', 'tinytex', 'utf8', 'waldo', 'xfun', 'XML'\n",
      "\n",
      "Loading required package: dplyr\n",
      "\n",
      "\n",
      "Attaching package: ‘dplyr’\n",
      "\n",
      "\n",
      "The following objects are masked from ‘package:stats’:\n",
      "\n",
      "    filter, lag\n",
      "\n",
      "\n",
      "The following objects are masked from ‘package:base’:\n",
      "\n",
      "    intersect, setdiff, setequal, union\n",
      "\n",
      "\n",
      "Loading required package: S4Vectors\n",
      "\n",
      "Loading required package: stats4\n",
      "\n",
      "Loading required package: BiocGenerics\n",
      "\n",
      "Loading required package: parallel\n",
      "\n",
      "\n",
      "Attaching package: ‘BiocGenerics’\n",
      "\n",
      "\n",
      "The following objects are masked from ‘package:parallel’:\n",
      "\n",
      "    clusterApply, clusterApplyLB, clusterCall, clusterEvalQ,\n",
      "    clusterExport, clusterMap, parApply, parCapply, parLapply,\n",
      "    parLapplyLB, parRapply, parSapply, parSapplyLB\n",
      "\n",
      "\n",
      "The following objects are masked from ‘package:dplyr’:\n",
      "\n",
      "    combine, intersect, setdiff, union\n",
      "\n",
      "\n",
      "The following objects are masked from ‘package:stats’:\n",
      "\n",
      "    IQR, mad, sd, var, xtabs\n",
      "\n",
      "\n",
      "The following objects are masked from ‘package:base’:\n",
      "\n",
      "    anyDuplicated, append, as.data.frame, basename, cbind, colnames,\n",
      "    dirname, do.call, duplicated, eval, evalq, Filter, Find, get, grep,\n",
      "    grepl, intersect, is.unsorted, lapply, Map, mapply, match, mget,\n",
      "    order, paste, pmax, pmax.int, pmin, pmin.int, Position, rank,\n",
      "    rbind, Reduce, rownames, sapply, setdiff, sort, table, tapply,\n",
      "    union, unique, unsplit, which.max, which.min\n",
      "\n",
      "\n",
      "\n",
      "Attaching package: ‘S4Vectors’\n",
      "\n",
      "\n",
      "The following objects are masked from ‘package:dplyr’:\n",
      "\n",
      "    first, rename\n",
      "\n",
      "\n",
      "The following objects are masked from ‘package:base’:\n",
      "\n",
      "    expand.grid, I, unname\n",
      "\n",
      "\n",
      "Loading required package: SingleCellExperiment\n",
      "\n",
      "Loading required package: SummarizedExperiment\n",
      "\n",
      "Loading required package: MatrixGenerics\n",
      "\n",
      "Loading required package: matrixStats\n",
      "\n",
      "\n",
      "Attaching package: ‘matrixStats’\n",
      "\n",
      "\n",
      "The following object is masked from ‘package:dplyr’:\n",
      "\n",
      "    count\n",
      "\n",
      "\n",
      "\n",
      "Attaching package: ‘MatrixGenerics’\n",
      "\n",
      "\n",
      "The following objects are masked from ‘package:matrixStats’:\n",
      "\n",
      "    colAlls, colAnyNAs, colAnys, colAvgsPerRowSet, colCollapse,\n",
      "    colCounts, colCummaxs, colCummins, colCumprods, colCumsums,\n",
      "    colDiffs, colIQRDiffs, colIQRs, colLogSumExps, colMadDiffs,\n",
      "    colMads, colMaxs, colMeans2, colMedians, colMins, colOrderStats,\n",
      "    colProds, colQuantiles, colRanges, colRanks, colSdDiffs, colSds,\n",
      "    colSums2, colTabulates, colVarDiffs, colVars, colWeightedMads,\n",
      "    colWeightedMeans, colWeightedMedians, colWeightedSds,\n",
      "    colWeightedVars, rowAlls, rowAnyNAs, rowAnys, rowAvgsPerColSet,\n",
      "    rowCollapse, rowCounts, rowCummaxs, rowCummins, rowCumprods,\n",
      "    rowCumsums, rowDiffs, rowIQRDiffs, rowIQRs, rowLogSumExps,\n",
      "    rowMadDiffs, rowMads, rowMaxs, rowMeans2, rowMedians, rowMins,\n",
      "    rowOrderStats, rowProds, rowQuantiles, rowRanges, rowRanks,\n",
      "    rowSdDiffs, rowSds, rowSums2, rowTabulates, rowVarDiffs, rowVars,\n",
      "    rowWeightedMads, rowWeightedMeans, rowWeightedMedians,\n",
      "    rowWeightedSds, rowWeightedVars\n",
      "\n",
      "\n",
      "Loading required package: GenomicRanges\n",
      "\n",
      "Loading required package: IRanges\n",
      "\n",
      "\n",
      "Attaching package: ‘IRanges’\n",
      "\n",
      "\n",
      "The following objects are masked from ‘package:dplyr’:\n",
      "\n",
      "    collapse, desc, slice\n",
      "\n",
      "\n",
      "Loading required package: GenomeInfoDb\n",
      "\n",
      "Loading required package: Biobase\n",
      "\n",
      "Welcome to Bioconductor\n",
      "\n",
      "    Vignettes contain introductory material; view with\n",
      "    'browseVignettes()'. To cite Bioconductor, see\n",
      "    'citation(\"Biobase\")', and for packages 'citation(\"pkgname\")'.\n",
      "\n",
      "\n",
      "\n",
      "Attaching package: ‘Biobase’\n",
      "\n",
      "\n",
      "The following object is masked from ‘package:MatrixGenerics’:\n",
      "\n",
      "    rowMedians\n",
      "\n",
      "\n",
      "The following objects are masked from ‘package:matrixStats’:\n",
      "\n",
      "    anyMissing, rowMedians\n",
      "\n",
      "\n",
      "Loading required package: rhdf5\n",
      "\n",
      "Loading required package: BiocIO\n",
      "\n",
      "\n",
      "Attaching package: ‘reticulate’\n",
      "\n",
      "\n",
      "The following object is masked from ‘package:LoomExperiment’:\n",
      "\n",
      "    import\n",
      "\n",
      "\n",
      "The following object is masked from ‘package:BiocIO’:\n",
      "\n",
      "    import\n",
      "\n",
      "\n"
     ]
    }
   ],
   "source": [
    "# Installing sceasy-related packages\n",
    "install.packages('reticulate')\n",
    "system('pip install -U loompy', intern=FALSE)\n",
    "system('pip install anndata', intern=FALSE)\n",
    "\n",
    "# Installing Bioconductor packages\n",
    "install_if_missing <- function(packages) {\n",
    "    packages_needed <- setdiff(packages, rownames(installed.packages()))\n",
    "    if (length(packages_needed) > 0) { \n",
    "        BiocManager::install(packages_needed)\n",
    "    }\n",
    "}\n",
    "\n",
    "packages_for_this_notebook <- c(\n",
    "    \"AnVIL\",\n",
    "    \"LoomExperiment\",\n",
    "    \"SingleCellExperiment\")\n",
    "\n",
    "install_if_missing(packages_for_this_notebook)\n",
    "\n",
    "library(AnVIL)\n",
    "library(LoomExperiment)\n",
    "library(reticulate)"
   ]
  },
  {
   "cell_type": "code",
   "execution_count": 2,
   "metadata": {},
   "outputs": [
    {
     "name": "stderr",
     "output_type": "stream",
     "text": [
      "Downloading GitHub repo cellgeni/sceasy@HEAD\n",
      "\n"
     ]
    },
    {
     "name": "stdout",
     "output_type": "stream",
     "text": [
      "RcppAnnoy    (0.0.18     -> 0.0.19    ) [CRAN]\n",
      "utf8         (1.2.1      -> 1.2.2     ) [CRAN]\n",
      "cli          (3.0.0      -> 3.0.1     ) [CRAN]\n",
      "pillar       (1.6.1      -> 1.6.2     ) [CRAN]\n",
      "spatstat.... (2.2-0      -> 2.2-2     ) [CRAN]\n",
      "cachem       (1.0.5      -> 1.0.6     ) [CRAN]\n",
      "later        (1.2.0      -> 1.3.0     ) [CRAN]\n",
      "R6           (2.5.0      -> 2.5.1     ) [CRAN]\n",
      "htmltools    (0.5.1.1    -> 0.5.2     ) [CRAN]\n",
      "httpuv       (1.6.1      -> 1.6.2     ) [CRAN]\n",
      "stringi      (1.6.2      -> 1.7.4     ) [CRAN]\n",
      "tibble       (3.1.2      -> 3.1.4     ) [CRAN]\n",
      "isoband      (0.2.4      -> 0.2.5     ) [CRAN]\n",
      "parallelly   (1.26.1     -> 1.27.0    ) [CRAN]\n",
      "RcppArmad... (0.10.5.0.0 -> 0.10.6.0.0) [CRAN]\n",
      "matrixStats  (0.59.0     -> 0.60.1    ) [CRAN]\n",
      "future       (1.21.0     -> 1.22.1    ) [CRAN]\n",
      "future.apply (1.7.0      -> 1.8.1     ) [CRAN]\n",
      "spatstat.... (2.2-0      -> 2.3-0     ) [CRAN]\n",
      "leiden       (0.3.8      -> 0.3.9     ) [CRAN]\n",
      "Seurat       (4.0.3      -> 4.0.4     ) [CRAN]\n"
     ]
    },
    {
     "name": "stderr",
     "output_type": "stream",
     "text": [
      "Skipping 2 packages not available: LoomExperiment, SingleCellExperiment\n",
      "\n",
      "Installing 21 packages: RcppAnnoy, utf8, cli, pillar, spatstat.geom, cachem, later, R6, htmltools, httpuv, stringi, tibble, isoband, parallelly, RcppArmadillo, matrixStats, future, future.apply, spatstat.core, leiden, Seurat\n",
      "\n",
      "Installing packages into ‘/home/jupyter/notebooks/packages’\n",
      "(as ‘lib’ is unspecified)\n",
      "\n",
      "Warning message in i.p(...):\n",
      "“installation of package ‘leiden’ had non-zero exit status”\n"
     ]
    },
    {
     "name": "stdout",
     "output_type": "stream",
     "text": [
      "\u001b[32m✔\u001b[39m  \u001b[90mchecking for file ‘/tmp/RtmpbfIVMK/remotes9b595fa293/cellgeni-sceasy-f8f0628/DESCRIPTION’\u001b[39m\u001b[36m\u001b[39m\n",
      "\u001b[90m─\u001b[39m\u001b[90m  \u001b[39m\u001b[90mpreparing ‘sceasy’:\u001b[39m\u001b[36m\u001b[39m\n",
      "\u001b[32m✔\u001b[39m  \u001b[90mchecking DESCRIPTION meta-information\u001b[39m\u001b[36m\u001b[39m\n",
      "\u001b[90m─\u001b[39m\u001b[90m  \u001b[39m\u001b[90mchecking for LF line-endings in source and make files and shell scripts\u001b[39m\u001b[36m\u001b[39m\n",
      "\u001b[90m─\u001b[39m\u001b[90m  \u001b[39m\u001b[90mchecking for empty or unneeded directories\u001b[39m\u001b[36m\u001b[39m\n",
      "\u001b[90m─\u001b[39m\u001b[90m  \u001b[39m\u001b[90mbuilding ‘sceasy_0.0.6.tar.gz’\u001b[39m\u001b[36m\u001b[39m\n",
      "   \n",
      "\r"
     ]
    },
    {
     "name": "stderr",
     "output_type": "stream",
     "text": [
      "Installing package into ‘/home/jupyter/notebooks/packages’\n",
      "(as ‘lib’ is unspecified)\n",
      "\n"
     ]
    }
   ],
   "source": [
    "# Installing sceasy package\n",
    "devtools::install_github(\"cellgeni/sceasy\")"
   ]
  },
  {
   "cell_type": "code",
   "execution_count": 3,
   "metadata": {},
   "outputs": [],
   "source": [
    "library(sceasy)"
   ]
  },
  {
   "cell_type": "code",
   "execution_count": 4,
   "metadata": {},
   "outputs": [],
   "source": [
    "loompy <- reticulate::import('loompy')"
   ]
  },
  {
   "cell_type": "markdown",
   "metadata": {},
   "source": [
    "## Installing environment variables\n",
    "The following code uses AnVIL functions to assign several environment variables that allow you to access and manipulate Terra featues like the workspace name, Google bucket, and Google billing project. "
   ]
  },
  {
   "cell_type": "code",
   "execution_count": 5,
   "metadata": {
    "code_folding": []
   },
   "outputs": [
    {
     "data": {
      "text/html": [
       "'featured-workspaces-hca'"
      ],
      "text/latex": [
       "'featured-workspaces-hca'"
      ],
      "text/markdown": [
       "'featured-workspaces-hca'"
      ],
      "text/plain": [
       "[1] \"featured-workspaces-hca\""
      ]
     },
     "metadata": {},
     "output_type": "display_data"
    },
    {
     "data": {
      "text/html": [
       "'featured-workspaces-hca/Intro-to-HCA-data-on-Terra-lk-20210901-notebook'"
      ],
      "text/latex": [
       "'featured-workspaces-hca/Intro-to-HCA-data-on-Terra-lk-20210901-notebook'"
      ],
      "text/markdown": [
       "'featured-workspaces-hca/Intro-to-HCA-data-on-Terra-lk-20210901-notebook'"
      ],
      "text/plain": [
       "[1] \"featured-workspaces-hca/Intro-to-HCA-data-on-Terra-lk-20210901-notebook\""
      ]
     },
     "metadata": {},
     "output_type": "display_data"
    },
    {
     "data": {
      "text/html": [
       "'gs://fc-7324e65c-4d56-4a2e-973a-9c8f405bfce6'"
      ],
      "text/latex": [
       "'gs://fc-7324e65c-4d56-4a2e-973a-9c8f405bfce6'"
      ],
      "text/markdown": [
       "'gs://fc-7324e65c-4d56-4a2e-973a-9c8f405bfce6'"
      ],
      "text/plain": [
       "[1] \"gs://fc-7324e65c-4d56-4a2e-973a-9c8f405bfce6\""
      ]
     },
     "metadata": {},
     "output_type": "display_data"
    }
   ],
   "source": [
    "# Assign environment variables and view them\n",
    "project <- avworkspace_namespace()\n",
    "workspace <- avworkspace()\n",
    "bucket <- avbucket()\n",
    "project\n",
    "workspace\n",
    "bucket"
   ]
  },
  {
   "cell_type": "markdown",
   "metadata": {},
   "source": [
    "## Examine file details for the HCA project matrix\n",
    "HCA and other consortia data files live in cloud storage, like Google buckets, Amazon Web Services, and Azure. Since files can live in diverse storage options, they are often given a cloud agnostic GA4GH-compliant identifier called a DRS URI (read more in this Terra Support overview)\n",
    "\n",
    "In this tutorial, we'll identify and move files between cloud environments using their DRS URIs. You can find an HCA data file's DRS URI using the AnVIL package:\n",
    "\n",
    "1. Set the workspace containing the data using the avworkspace() function.\n",
    "2. Examine the tables in the workspace using the avtable() function; this will return the participant table which Terra automatically creates when you import HCA data.\n",
    "3. Set the participant table to a variable sample_set\n",
    "4. Use dplyer to slice the table row containing the sample of interest; in this case, we want to combined project matrix (sc-landscape-human-liver-10XV2.loom) which is in the first row of the data table.\n",
    "5. Use the pull command to pull the column containing DRS URI; in this case, it's the __loom__file_drs_uri column."
   ]
  },
  {
   "cell_type": "code",
   "execution_count": 6,
   "metadata": {
    "scrolled": false
   },
   "outputs": [
    {
     "data": {
      "text/html": [
       "<table class=\"dataframe\">\n",
       "<caption>A tibble: 1 × 10</caption>\n",
       "<thead>\n",
       "\t<tr><th scope=col>fileName</th><th scope=col>size</th><th scope=col>contentType</th><th scope=col>gsUri</th><th scope=col>timeCreated</th><th scope=col>timeUpdated</th><th scope=col>bucket</th><th scope=col>name</th><th scope=col>googleServiceAccount</th><th scope=col>hashes</th></tr>\n",
       "\t<tr><th scope=col>&lt;chr&gt;</th><th scope=col>&lt;int&gt;</th><th scope=col>&lt;chr&gt;</th><th scope=col>&lt;chr&gt;</th><th scope=col>&lt;chr&gt;</th><th scope=col>&lt;chr&gt;</th><th scope=col>&lt;chr&gt;</th><th scope=col>&lt;chr&gt;</th><th scope=col>&lt;list&gt;</th><th scope=col>&lt;list&gt;</th></tr>\n",
       "</thead>\n",
       "<tbody>\n",
       "\t<tr><td>sc-landscape-human-liver-10XV2.loom</td><td>1176122907</td><td>NA</td><td>gs://broad-datarepo-terra-prod-hca2-bucket/d30e68f8-c826-4639-88f3-ae35f00d4185/57130684-c89c-4b27-9030-298f50cbc95c/sc-landscape-human-liver-10XV2.loom</td><td>2021-02-19T19:31:35.668Z</td><td>2021-02-19T19:31:35.668Z</td><td>broad-datarepo-terra-prod-hca2-bucket</td><td>d30e68f8-c826-4639-88f3-ae35f00d4185/57130684-c89c-4b27-9030-298f50cbc95c/sc-landscape-human-liver-10XV2.loom</td><td>NULL</td><td>b01eb717                        , 9b990461e64e4c35fa67e466c4a22cba</td></tr>\n",
       "</tbody>\n",
       "</table>\n"
      ],
      "text/latex": [
       "A tibble: 1 × 10\n",
       "\\begin{tabular}{llllllllll}\n",
       " fileName & size & contentType & gsUri & timeCreated & timeUpdated & bucket & name & googleServiceAccount & hashes\\\\\n",
       " <chr> & <int> & <chr> & <chr> & <chr> & <chr> & <chr> & <chr> & <list> & <list>\\\\\n",
       "\\hline\n",
       "\t sc-landscape-human-liver-10XV2.loom & 1176122907 & NA & gs://broad-datarepo-terra-prod-hca2-bucket/d30e68f8-c826-4639-88f3-ae35f00d4185/57130684-c89c-4b27-9030-298f50cbc95c/sc-landscape-human-liver-10XV2.loom & 2021-02-19T19:31:35.668Z & 2021-02-19T19:31:35.668Z & broad-datarepo-terra-prod-hca2-bucket & d30e68f8-c826-4639-88f3-ae35f00d4185/57130684-c89c-4b27-9030-298f50cbc95c/sc-landscape-human-liver-10XV2.loom & NULL & b01eb717                        , 9b990461e64e4c35fa67e466c4a22cba\\\\\n",
       "\\end{tabular}\n"
      ],
      "text/markdown": [
       "\n",
       "A tibble: 1 × 10\n",
       "\n",
       "| fileName &lt;chr&gt; | size &lt;int&gt; | contentType &lt;chr&gt; | gsUri &lt;chr&gt; | timeCreated &lt;chr&gt; | timeUpdated &lt;chr&gt; | bucket &lt;chr&gt; | name &lt;chr&gt; | googleServiceAccount &lt;list&gt; | hashes &lt;list&gt; |\n",
       "|---|---|---|---|---|---|---|---|---|---|\n",
       "| sc-landscape-human-liver-10XV2.loom | 1176122907 | NA | gs://broad-datarepo-terra-prod-hca2-bucket/d30e68f8-c826-4639-88f3-ae35f00d4185/57130684-c89c-4b27-9030-298f50cbc95c/sc-landscape-human-liver-10XV2.loom | 2021-02-19T19:31:35.668Z | 2021-02-19T19:31:35.668Z | broad-datarepo-terra-prod-hca2-bucket | d30e68f8-c826-4639-88f3-ae35f00d4185/57130684-c89c-4b27-9030-298f50cbc95c/sc-landscape-human-liver-10XV2.loom | NULL | b01eb717                        , 9b990461e64e4c35fa67e466c4a22cba |\n",
       "\n"
      ],
      "text/plain": [
       "  fileName                            size       contentType\n",
       "1 sc-landscape-human-liver-10XV2.loom 1176122907 NA         \n",
       "  gsUri                                                                                                                                                   \n",
       "1 gs://broad-datarepo-terra-prod-hca2-bucket/d30e68f8-c826-4639-88f3-ae35f00d4185/57130684-c89c-4b27-9030-298f50cbc95c/sc-landscape-human-liver-10XV2.loom\n",
       "  timeCreated              timeUpdated             \n",
       "1 2021-02-19T19:31:35.668Z 2021-02-19T19:31:35.668Z\n",
       "  bucket                               \n",
       "1 broad-datarepo-terra-prod-hca2-bucket\n",
       "  name                                                                                                         \n",
       "1 d30e68f8-c826-4639-88f3-ae35f00d4185/57130684-c89c-4b27-9030-298f50cbc95c/sc-landscape-human-liver-10XV2.loom\n",
       "  googleServiceAccount\n",
       "1 NULL                \n",
       "  hashes                                                            \n",
       "1 b01eb717                        , 9b990461e64e4c35fa67e466c4a22cba"
      ]
     },
     "metadata": {},
     "output_type": "display_data"
    }
   ],
   "source": [
    "avworkspace(\"featured-workspaces-hca/Intro-to-HCA-data-on-Terra\")\n",
    "avtables()"
   ]
  },
  {
   "cell_type": "code",
   "execution_count": null,
   "metadata": {},
   "outputs": [],
   "source": [
    "sample_set <- avtable(\"participant\")\n",
    "sample_data <- sample_set %>% dplyr::slice(1)\n",
    "View(sample_data)"
   ]
  },
  {
   "cell_type": "code",
   "execution_count": null,
   "metadata": {},
   "outputs": [],
   "source": [
    "sample_name <- sample_data %>% pull(\"__loom__file_drs_uri\")\n",
    "sample_name"
   ]
  },
  {
   "cell_type": "markdown",
   "metadata": {},
   "source": [
    "### Use the `drs_stat()` function to examine file details\n",
    "\n",
    "\n",
    "- The AnVIL package provides the `drs_stat()` function as a useful way to look up files by DRS URIs and examine the the details before moving or manipulating the files.\n",
    "\n",
    "\n",
    "- Before using the function, we'll assign it to a variable (`drs_url`) so that we can reuse the variable with other functions later in the notebook. \n",
    "\n",
    "\n",
    "- The table output below will show the file's name, size, date updated, and url for it's Google bucket location (in the \"gsUri\" column). "
   ]
  },
  {
   "cell_type": "code",
   "execution_count": null,
   "metadata": {},
   "outputs": [],
   "source": [
    "# Look at DRS URI info for the 10x project matrix :`sc-landscape-human-liver-10XV2.loom`\n",
    "drs_url <- sample_name\n",
    "stats <- drs_stat(drs_url)\n",
    "stats"
   ]
  },
  {
   "cell_type": "markdown",
   "metadata": {},
   "source": [
    "## Importing HCA data into the Cloud Environment\n",
    "The AnVIL package uses the `drs_cp()` function to copy and move files with a DRS URI. \n",
    "\n",
    "The code below will automatically import the file into our virtual machine's [persistent disk](https://support.terra.bio/hc/en-us/articles/360047318551) file location. "
   ]
  },
  {
   "cell_type": "code",
   "execution_count": 7,
   "metadata": {},
   "outputs": [
    {
     "data": {
      "text/html": [
       "<table class=\"dataframe\">\n",
       "<caption>A tibble: 1 × 12</caption>\n",
       "<thead>\n",
       "\t<tr><th scope=col>fileName</th><th scope=col>size</th><th scope=col>contentType</th><th scope=col>gsUri</th><th scope=col>timeCreated</th><th scope=col>timeUpdated</th><th scope=col>bucket</th><th scope=col>name</th><th scope=col>googleServiceAccount</th><th scope=col>hashes</th><th scope=col>simple</th><th scope=col>destination</th></tr>\n",
       "\t<tr><th scope=col>&lt;chr&gt;</th><th scope=col>&lt;int&gt;</th><th scope=col>&lt;chr&gt;</th><th scope=col>&lt;chr&gt;</th><th scope=col>&lt;chr&gt;</th><th scope=col>&lt;chr&gt;</th><th scope=col>&lt;chr&gt;</th><th scope=col>&lt;chr&gt;</th><th scope=col>&lt;list&gt;</th><th scope=col>&lt;list&gt;</th><th scope=col>&lt;lgl&gt;</th><th scope=col>&lt;chr&gt;</th></tr>\n",
       "</thead>\n",
       "<tbody>\n",
       "\t<tr><td>sc-landscape-human-liver-10XV2.loom</td><td>1176122907</td><td>NA</td><td>gs://broad-datarepo-terra-prod-hca2-bucket/d30e68f8-c826-4639-88f3-ae35f00d4185/57130684-c89c-4b27-9030-298f50cbc95c/sc-landscape-human-liver-10XV2.loom</td><td>2021-02-19T19:31:35.668Z</td><td>2021-02-19T19:31:35.668Z</td><td>broad-datarepo-terra-prod-hca2-bucket</td><td>d30e68f8-c826-4639-88f3-ae35f00d4185/57130684-c89c-4b27-9030-298f50cbc95c/sc-landscape-human-liver-10XV2.loom</td><td>NULL</td><td>b01eb717                        , 9b990461e64e4c35fa67e466c4a22cba</td><td>TRUE</td><td>./sc-landscape-human-liver-10XV2.loom</td></tr>\n",
       "</tbody>\n",
       "</table>\n"
      ],
      "text/latex": [
       "A tibble: 1 × 12\n",
       "\\begin{tabular}{llllllllllll}\n",
       " fileName & size & contentType & gsUri & timeCreated & timeUpdated & bucket & name & googleServiceAccount & hashes & simple & destination\\\\\n",
       " <chr> & <int> & <chr> & <chr> & <chr> & <chr> & <chr> & <chr> & <list> & <list> & <lgl> & <chr>\\\\\n",
       "\\hline\n",
       "\t sc-landscape-human-liver-10XV2.loom & 1176122907 & NA & gs://broad-datarepo-terra-prod-hca2-bucket/d30e68f8-c826-4639-88f3-ae35f00d4185/57130684-c89c-4b27-9030-298f50cbc95c/sc-landscape-human-liver-10XV2.loom & 2021-02-19T19:31:35.668Z & 2021-02-19T19:31:35.668Z & broad-datarepo-terra-prod-hca2-bucket & d30e68f8-c826-4639-88f3-ae35f00d4185/57130684-c89c-4b27-9030-298f50cbc95c/sc-landscape-human-liver-10XV2.loom & NULL & b01eb717                        , 9b990461e64e4c35fa67e466c4a22cba & TRUE & ./sc-landscape-human-liver-10XV2.loom\\\\\n",
       "\\end{tabular}\n"
      ],
      "text/markdown": [
       "\n",
       "A tibble: 1 × 12\n",
       "\n",
       "| fileName &lt;chr&gt; | size &lt;int&gt; | contentType &lt;chr&gt; | gsUri &lt;chr&gt; | timeCreated &lt;chr&gt; | timeUpdated &lt;chr&gt; | bucket &lt;chr&gt; | name &lt;chr&gt; | googleServiceAccount &lt;list&gt; | hashes &lt;list&gt; | simple &lt;lgl&gt; | destination &lt;chr&gt; |\n",
       "|---|---|---|---|---|---|---|---|---|---|---|---|\n",
       "| sc-landscape-human-liver-10XV2.loom | 1176122907 | NA | gs://broad-datarepo-terra-prod-hca2-bucket/d30e68f8-c826-4639-88f3-ae35f00d4185/57130684-c89c-4b27-9030-298f50cbc95c/sc-landscape-human-liver-10XV2.loom | 2021-02-19T19:31:35.668Z | 2021-02-19T19:31:35.668Z | broad-datarepo-terra-prod-hca2-bucket | d30e68f8-c826-4639-88f3-ae35f00d4185/57130684-c89c-4b27-9030-298f50cbc95c/sc-landscape-human-liver-10XV2.loom | NULL | b01eb717                        , 9b990461e64e4c35fa67e466c4a22cba | TRUE | ./sc-landscape-human-liver-10XV2.loom |\n",
       "\n"
      ],
      "text/plain": [
       "  fileName                            size       contentType\n",
       "1 sc-landscape-human-liver-10XV2.loom 1176122907 NA         \n",
       "  gsUri                                                                                                                                                   \n",
       "1 gs://broad-datarepo-terra-prod-hca2-bucket/d30e68f8-c826-4639-88f3-ae35f00d4185/57130684-c89c-4b27-9030-298f50cbc95c/sc-landscape-human-liver-10XV2.loom\n",
       "  timeCreated              timeUpdated             \n",
       "1 2021-02-19T19:31:35.668Z 2021-02-19T19:31:35.668Z\n",
       "  bucket                               \n",
       "1 broad-datarepo-terra-prod-hca2-bucket\n",
       "  name                                                                                                         \n",
       "1 d30e68f8-c826-4639-88f3-ae35f00d4185/57130684-c89c-4b27-9030-298f50cbc95c/sc-landscape-human-liver-10XV2.loom\n",
       "  googleServiceAccount\n",
       "1 NULL                \n",
       "  hashes                                                             simple\n",
       "1 b01eb717                        , 9b990461e64e4c35fa67e466c4a22cba TRUE  \n",
       "  destination                          \n",
       "1 ./sc-landscape-human-liver-10XV2.loom"
      ]
     },
     "metadata": {},
     "output_type": "display_data"
    }
   ],
   "source": [
    "# Copy file with DRS URI into Cloud Envrionment\n",
    "drs_cp(drs_url, \".\")"
   ]
  },
  {
   "cell_type": "markdown",
   "metadata": {},
   "source": [
    "### Copying HCA data using gsutil\n",
    "Since HCA data is stored in a Google bucket, we can also use Google's suite of tools for manipulating cloud data, [gsutil](https://cloud.google.com/storage/docs/gsutil). Forunately, the AnVIL package has gsutil built in. If you want to try it, just uncomment the code below. \n",
    "\n",
    "Same as above, this technique will import the file into our [persistent disk](https://support.terra.bio/hc/en-us/articles/360047318551) file location. \n",
    "\n",
    "We used the `drs_stat()` function above to find the Google bucket URI, but you can also find this information in the `participant` data table. When you click the project matrix DRS URI link in the table's `__loom__file_drs_uri` column, you'll notice a new window with a gsutil command for copying the file from a Google bucket location. This command contains the Google bucket URI. "
   ]
  },
  {
   "cell_type": "code",
   "execution_count": 8,
   "metadata": {},
   "outputs": [],
   "source": [
    "# home <- \"/home/jupyter-user/notebooks/Intro-to-HCA-data-on-Terra-notebook-dev/edit\"\n",
    "# gs <- \"gs://broad-datarepo-terra-prod-hca2-bucket/d30e68f8-c826-4639-88f3-ae35f00d4185/57130684-c89c-4b27-9030-298f50cbc95c/sc-landscape-human-liver-10XV2.loom\"\n",
    "# gsutil_cp(gs, home)"
   ]
  },
  {
   "cell_type": "markdown",
   "metadata": {},
   "source": [
    "After importing the project matrix, we can confirm the import by listing files in our Cloud Environment's virtual machine. You should see the `sc-landscape-human-liver-10XV2.loom` file is now your Cloud Environment's file system."
   ]
  },
  {
   "cell_type": "code",
   "execution_count": 9,
   "metadata": {},
   "outputs": [
    {
     "data": {
      "text/html": [
       "<style>\n",
       ".list-inline {list-style: none; margin:0; padding: 0}\n",
       ".list-inline>li {display: inline-block}\n",
       ".list-inline>li:not(:last-child)::after {content: \"\\00b7\"; padding: 0 .5ex}\n",
       "</style>\n",
       "<ol class=list-inline><li>'Bioconductor.ipynb'</li><li>'Pegasus.ipynb'</li><li>'sc-landscape-human-liver-10XV2.loom'</li><li>'Scanpy.ipynb'</li><li>'Seurat.ipynb'</li></ol>\n"
      ],
      "text/latex": [
       "\\begin{enumerate*}\n",
       "\\item 'Bioconductor.ipynb'\n",
       "\\item 'Pegasus.ipynb'\n",
       "\\item 'sc-landscape-human-liver-10XV2.loom'\n",
       "\\item 'Scanpy.ipynb'\n",
       "\\item 'Seurat.ipynb'\n",
       "\\end{enumerate*}\n"
      ],
      "text/markdown": [
       "1. 'Bioconductor.ipynb'\n",
       "2. 'Pegasus.ipynb'\n",
       "3. 'sc-landscape-human-liver-10XV2.loom'\n",
       "4. 'Scanpy.ipynb'\n",
       "5. 'Seurat.ipynb'\n",
       "\n",
       "\n"
      ],
      "text/plain": [
       "[1] \"Bioconductor.ipynb\"                  \"Pegasus.ipynb\"                      \n",
       "[3] \"sc-landscape-human-liver-10XV2.loom\" \"Scanpy.ipynb\"                       \n",
       "[5] \"Seurat.ipynb\"                       "
      ]
     },
     "metadata": {},
     "output_type": "display_data"
    }
   ],
   "source": [
    "# Confirm that `sc-landscape-human-liver-10XV2.loom` is in Cloud Environment disk\n",
    "list.files()"
   ]
  },
  {
   "cell_type": "markdown",
   "metadata": {},
   "source": [
    "## Convert the Loom to AnnData with sceasy\n",
    "To convert the HCA Loom to a Seurat object, we must first convert it to an intermediary AnnData object using the sceasy package.\n",
    "\n",
    "The code below uses the sc-landscape-human-liver-10XV2.loom file as input and creates the output AnnData object which we'll store in an h5ad file called \"trial_liver.h5ad.\""
   ]
  },
  {
   "cell_type": "code",
   "execution_count": 10,
   "metadata": {},
   "outputs": [
    {
     "data": {
      "text/plain": [
       "AnnData object with n_obs × n_vars = 332497 × 58347\n",
       "    obs: 'cell_barcode_fraction_bases_above_30_mean', 'cell_barcode_fraction_bases_above_30_variance', 'cell_names', 'emptydrops_FDR', 'emptydrops_IsCell', 'emptydrops_Limited', 'emptydrops_LogProb', 'emptydrops_PValue', 'emptydrops_Total', 'fragments_per_molecule', 'fragments_with_single_read_evidence', 'genes_detected_multiple_observations', 'genomic_read_quality_mean', 'genomic_read_quality_variance', 'genomic_reads_fraction_bases_quality_above_30_mean', 'genomic_reads_fraction_bases_quality_above_30_variance', 'input_id', 'molecule_barcode_fraction_bases_above_30_mean', 'molecule_barcode_fraction_bases_above_30_variance', 'molecules_with_single_read_evidence', 'n_fragments', 'n_genes', 'n_mitochondrial_genes', 'n_mitochondrial_molecules', 'n_molecules', 'n_reads', 'pct_mitochondrial_molecules', 'perfect_cell_barcodes', 'perfect_molecule_barcodes', 'reads_mapped_exonic', 'reads_mapped_intergenic', 'reads_mapped_intronic', 'reads_mapped_multiple', 'reads_mapped_uniquely', 'reads_mapped_utr', 'reads_per_fragment', 'reads_unmapped', 'spliced_reads'\n",
       "    var: 'antisense_reads', 'duplicate_reads', 'ensembl_ids', 'fragments_per_molecule', 'fragments_with_single_read_evidence', 'gene_names', 'genomic_read_quality_mean', 'genomic_read_quality_variance', 'genomic_reads_fraction_bases_quality_above_30_mean', 'genomic_reads_fraction_bases_quality_above_30_variance', 'molecule_barcode_fraction_bases_above_30_mean', 'molecule_barcode_fraction_bases_above_30_variance', 'molecules_with_single_read_evidence', 'n_fragments', 'n_molecules', 'n_reads', 'noise_reads', 'number_cells_detected_multiple', 'number_cells_expressing', 'perfect_molecule_barcodes', 'reads_mapped_exonic', 'reads_mapped_intronic', 'reads_mapped_multiple', 'reads_mapped_uniquely', 'reads_mapped_utr', 'reads_per_fragment', 'reads_per_molecule', 'spliced_reads'\n",
       "    uns: 'loom-obs'"
      ]
     },
     "metadata": {},
     "output_type": "display_data"
    }
   ],
   "source": [
    "# Convert to AnnData with sceasy; conversion takes a few minutes\n",
    "sceasy::convertFormat('sc-landscape-human-liver-10XV2.loom', from=\"loom\", to=\"anndata\",\n",
    "                       outFile='trial_liver.h5ad')"
   ]
  },
  {
   "cell_type": "markdown",
   "metadata": {},
   "source": [
    "## Sanity check\n",
    "Make sure the trial_liver.h5ad is now in the working directory by listing the files."
   ]
  },
  {
   "cell_type": "code",
   "execution_count": 11,
   "metadata": {},
   "outputs": [
    {
     "data": {
      "text/html": [
       "<style>\n",
       ".list-inline {list-style: none; margin:0; padding: 0}\n",
       ".list-inline>li {display: inline-block}\n",
       ".list-inline>li:not(:last-child)::after {content: \"\\00b7\"; padding: 0 .5ex}\n",
       "</style>\n",
       "<ol class=list-inline><li>'Bioconductor.ipynb'</li><li>'Pegasus.ipynb'</li><li>'sc-landscape-human-liver-10XV2.loom'</li><li>'Scanpy.ipynb'</li><li>'Seurat.ipynb'</li><li>'trial_liver.h5ad'</li></ol>\n"
      ],
      "text/latex": [
       "\\begin{enumerate*}\n",
       "\\item 'Bioconductor.ipynb'\n",
       "\\item 'Pegasus.ipynb'\n",
       "\\item 'sc-landscape-human-liver-10XV2.loom'\n",
       "\\item 'Scanpy.ipynb'\n",
       "\\item 'Seurat.ipynb'\n",
       "\\item 'trial\\_liver.h5ad'\n",
       "\\end{enumerate*}\n"
      ],
      "text/markdown": [
       "1. 'Bioconductor.ipynb'\n",
       "2. 'Pegasus.ipynb'\n",
       "3. 'sc-landscape-human-liver-10XV2.loom'\n",
       "4. 'Scanpy.ipynb'\n",
       "5. 'Seurat.ipynb'\n",
       "6. 'trial_liver.h5ad'\n",
       "\n",
       "\n"
      ],
      "text/plain": [
       "[1] \"Bioconductor.ipynb\"                  \"Pegasus.ipynb\"                      \n",
       "[3] \"sc-landscape-human-liver-10XV2.loom\" \"Scanpy.ipynb\"                       \n",
       "[5] \"Seurat.ipynb\"                        \"trial_liver.h5ad\"                   "
      ]
     },
     "metadata": {},
     "output_type": "display_data"
    }
   ],
   "source": [
    "list.files()"
   ]
  },
  {
   "cell_type": "markdown",
   "metadata": {},
   "source": [
    "## Convert the AnnData to Seurat\n",
    "A Seurat object is a container that holds count information from our count matrix, but also analysis results like PCA and clustering info.\n",
    "\n",
    "Let's use the sceasy package to convert the trial_liver.h5ad to a Seurat object and write the object to an RDS file called \"liver_seurat.rds\"."
   ]
  },
  {
   "cell_type": "code",
   "execution_count": 12,
   "metadata": {},
   "outputs": [
    {
     "name": "stderr",
     "output_type": "stream",
     "text": [
      "Registered S3 method overwritten by 'spatstat.geom':\n",
      "  method     from\n",
      "  print.boxx cli \n",
      "\n",
      "Warning message:\n",
      "“Feature names cannot have underscores ('_'), replacing with dashes ('-')”\n",
      "X -> counts\n",
      "\n"
     ]
    },
    {
     "data": {
      "text/plain": [
       "An object of class Seurat \n",
       "58347 features across 332497 samples within 1 assay \n",
       "Active assay: RNA (58347 features, 0 variable features)"
      ]
     },
     "metadata": {},
     "output_type": "display_data"
    }
   ],
   "source": [
    "# Use sceasy to convert AnnData to Seurat\n",
    "sceasy::convertFormat('trial_liver.h5ad', from=\"anndata\", to=\"seurat\",\n",
    "                       outFile='liver_seurat.rds')"
   ]
  },
  {
   "cell_type": "markdown",
   "metadata": {},
   "source": [
    "## Copy the Seurat object to the workspace Google bucket\n",
    "Data generated by running an analysis in a Jupyter Notebook is saved to the disk associated with the Cloud Environment. When the disk is deleted, the data are as well. \n",
    "\n",
    "You can backup your work by moving files to your workspace Google bucket.\n",
    "\n",
    "\n",
    "Remember those system environment variables set up at the beginning of this notebook? The code below uses those variables to simplify copying files to the workspace.\n"
   ]
  },
  {
   "cell_type": "code",
   "execution_count": null,
   "metadata": {},
   "outputs": [],
   "source": [
    "# Copy the rds file generated in the notebook into the workspace bucket using AnVIL package gsutil commands\n",
    "gsutil_cp(\"./*.rds\", bucket)\n",
    "# Run list command to see if file is in the bucket\n",
    "gsutil_ls(bucket)"
   ]
  },
  {
   "cell_type": "markdown",
   "metadata": {},
   "source": [
    "## Check the session info\n",
    "The code below shows a record of all the packages used for this session."
   ]
  },
  {
   "cell_type": "code",
   "execution_count": null,
   "metadata": {},
   "outputs": [],
   "source": [
    "# Output all session information\n",
    "devtools::session_info()"
   ]
  },
  {
   "cell_type": "markdown",
   "metadata": {},
   "source": [
    "## Next steps\n",
    "You can perform single-cell analysis of the Seurat object using the workspace [Seurat Jupyter Notebook](https://app.terra.bio/#workspaces/featured-workspaces-hca/Intro-to-HCA-data-on-Terra/notebooks/launch/Seurat.ipynb). Since some of the sceasy packages might conflict with the Seurat software, try **deleting your Cloud Environment and persistent disk** prior to using the Seurat Notebook.\n",
    "\n",
    "\n",
    "## Congrats!\n",
    "You've successfully completed the data import, exploration, and conversion tutorial for HCA data. Please leave feedback on the \n",
    "Terra [Featured Workspace Community Forum](https://support.terra.bio/hc/en-us/community/topics/360001603491). "
   ]
  },
  {
   "cell_type": "code",
   "execution_count": null,
   "metadata": {},
   "outputs": [],
   "source": []
  }
 ],
 "metadata": {
  "kernelspec": {
   "display_name": "R",
   "language": "R",
   "name": "ir"
  },
  "language_info": {
   "codemirror_mode": "r",
   "file_extension": ".r",
   "mimetype": "text/x-r-source",
   "name": "R",
   "pygments_lexer": "r",
   "version": "4.1.1"
  },
  "toc": {
   "base_numbering": 1,
   "nav_menu": {},
   "number_sections": true,
   "sideBar": true,
   "skip_h1_title": false,
   "title_cell": "Table of Contents",
   "title_sidebar": "Contents",
   "toc_cell": false,
   "toc_position": {},
   "toc_section_display": true,
   "toc_window_display": false
  }
 },
 "nbformat": 4,
 "nbformat_minor": 2
}
