{
 "cells": [
  {
   "cell_type": "markdown",
   "metadata": {},
   "source": [
    "# <font color=\"gray\"> A note on opening notebooks in shared workspaces</font><a class=\"tocSkip\">"
   ]
  },
  {
   "cell_type": "markdown",
   "metadata": {},
   "source": [
    "<font color=\"gray\">Master copies of notebooks should not be run or edited unless you intend to improve the code. As a general rule, it is good to be cautious when editing a notebook in a shared workspace, because you don't want to overwrite the work of your collaborators. Best practices is to test in a cloned workspace with an easily identifiable name.</font>"
   ]
  },
  {
   "cell_type": "markdown",
   "metadata": {},
   "source": [
    "# Setup notebook overview"
   ]
  },
  {
   "cell_type": "markdown",
   "metadata": {},
   "source": [
    "In this notebook we install a collection of R packages and Jupyter extensions above and beyond what is installed by default. These are packages used in one or more of the notebooks in this workspace. \n",
    "\n",
    "This notebook needs to be rerun when your notebook \"runtime environment\" (which may be a VM or cluster) is recreated. Note that this is rare -- when you stop using a notebook, your runtime is paused, not deleted. Your runtime only recreates after you click the \"Delete runtime\" button.\n",
    "\n",
    "**Directons**   \n",
    "Run this notebook in your workspace before running any other R notebooks. For more information about Jupyter notebooks, and practice running a notebook in Terra, see the **0_Intro_to_Jupyter** notebook in this workspace. \n",
    "\n",
    "**How to know your code cell is running**    \n",
    "1. There will be an `*` in between the brackets to the left at the top of the code cell (`In [*]    \n",
    "2. The section with the code cell will be highlighted in red in the Table of Contents    \n",
    "\n",
    "**How to know your code cell is done**    \n",
    "1. The `*` will turn into a number (`IN [*]` will become `In [3]` for example)\n",
    "2. You may get some output information (in black text on either white or pink background). Note that a pink warning message does not necessarily mean your notebook is broken!\n"
   ]
  },
  {
   "cell_type": "markdown",
   "metadata": {},
   "source": [
    "# Install useful notebook extentions"
   ]
  },
  {
   "cell_type": "markdown",
   "metadata": {},
   "source": [
    "<font color=\"gray\">Jupyter notebook extensions are useful add-ons, developed by the community, to extend notebook functionality. You can read more about notebook extentions and how they work [here](http://www.blog.pythonlibrary.org/2018/10/02/jupyter-notebook-extension-basics/).</font>"
   ]
  },
  {
   "cell_type": "code",
   "execution_count": null,
   "metadata": {
    "code_folding": [
     0
    ]
   },
   "outputs": [],
   "source": [
    "# Set path to notebook extensions\n",
    "LOCATION <- system('pip show jupyter_contrib_nbextensions | grep Location | awk \\'{print $2}\\'', intern = TRUE)\n",
    "\n",
    "# Output variable, to verify it was set correctly\n",
    "LOCATION"
   ]
  },
  {
   "cell_type": "markdown",
   "metadata": {},
   "source": [
    "## Code folding extension"
   ]
  },
  {
   "cell_type": "markdown",
   "metadata": {},
   "source": [
    "This extension will make the notebook look cleaner by compressing large blocks of code. You'll know this extension is in place by the small gray triangle at the top left of a code cell. Folded code cells have a right-facing triangle at the top left of the cell and a purple <font color=#7433FF>**<->**</font> to the right of the first line of code. \n",
    "\n",
    "To see the full code, you can expand the cell by clicking either the triangle or the arrow at the top of the code cell.    \n",
    "\n",
    "**Note that you still need to run folded code cells but you will not need to unfold them to do so.** "
   ]
  },
  {
   "cell_type": "code",
   "execution_count": null,
   "metadata": {},
   "outputs": [],
   "source": [
    "# Install codefolding\n",
    "system(stringr::str_glue('jupyter nbextension install {LOCATION}/jupyter_contrib_nbextensions/nbextensions/codefolding --user 2>&1'),\n",
    "       intern = TRUE)\n",
    "system('jupyter nbextension enable codefolding/main 2>&1', intern=TRUE)"
   ]
  },
  {
   "cell_type": "markdown",
   "metadata": {},
   "source": [
    "## Enable and test codefolding extension <a class=\"tocSkip\">\n",
    "\n",
    "To activate the extension, you need to refresh the browser page. Don't worry! Since we haven't done any analysis yet, you won't lose any variables.     \n",
    "\n",
    "Once you've done that, you can see what the extension does in the two code cells below.  "
   ]
  },
  {
   "cell_type": "code",
   "execution_count": null,
   "metadata": {
    "code_folding": []
   },
   "outputs": [],
   "source": [
    "# This code cell is unfolded \n",
    "# Notice the small arrow at the top left of the cell is pointing DOWN\n",
    "# There is no purple two-way arrow to the right of the first line\n",
    "# You can click on the small arrow to fold the cell"
   ]
  },
  {
   "cell_type": "code",
   "execution_count": null,
   "metadata": {
    "code_folding": [
     0
    ]
   },
   "outputs": [],
   "source": [
    "# This code cell is folded. Notice the triangle (left) is pointing RIGHT and the purple arrow (right) \n",
    "# If you clicked on the DOWN arrow, you will expand the cell and be able to read this text. \n",
    "\n",
    "# CONGRATULATIONS!!!"
   ]
  },
  {
   "cell_type": "markdown",
   "metadata": {},
   "source": [
    "## Collapsible headings extension"
   ]
  },
  {
   "cell_type": "markdown",
   "metadata": {},
   "source": [
    "This extension also makes the notebook tidier, by collapsing the cells under a header. "
   ]
  },
  {
   "cell_type": "code",
   "execution_count": null,
   "metadata": {},
   "outputs": [],
   "source": [
    "# Install collasible headers\n",
    "system(stringr::str_glue('jupyter nbextension install {LOCATION}/jupyter_contrib_nbextensions/nbextensions/collapsible_headings --user 2>&1'),\n",
    "       intern = TRUE)\n",
    "system('jupyter nbextension enable collapsible_headings/main 2>&1', intern=TRUE)"
   ]
  },
  {
   "cell_type": "markdown",
   "metadata": {},
   "source": [
    "## Enable collapsible header extension <a class=\"tocSkip\">\n",
    "\n",
    "To activate the extension, you need to refresh the browser page. Don't worry! Since we haven't done any analysis yet, you won't lose any variables.     \n",
    "\n",
    "Once you've done that, you can see what the extension does in the cells below.  "
   ]
  },
  {
   "cell_type": "markdown",
   "metadata": {
    "heading_collapsed": true
   },
   "source": [
    "## Test collapsible header <a class=\"tocSkip\">\n",
    "You can uncollapse the header markdown cell in this section by clicking the right-facing arrow beside the header... Try it and see!"
   ]
  },
  {
   "cell_type": "markdown",
   "metadata": {
    "hidden": true
   },
   "source": [
    "<font color=\"purple\">Congratulations!! You've discovered the hidden markdown beneath the collapsed header.</font>"
   ]
  },
  {
   "cell_type": "code",
   "execution_count": null,
   "metadata": {
    "hidden": true
   },
   "outputs": [],
   "source": [
    "# Code cells are also collapsed under the header... \n",
    "# To run code cells collapsed undfer a header, you need to first uncollapse the header!!"
   ]
  },
  {
   "cell_type": "markdown",
   "metadata": {
    "hidden": true
   },
   "source": [
    "**Try it out!** Once you implement the extensions, you can collapse and uncollapse any code cells and headings"
   ]
  },
  {
   "cell_type": "markdown",
   "metadata": {},
   "source": [
    "# Install R packages\n",
    "\n"
   ]
  },
  {
   "cell_type": "code",
   "execution_count": null,
   "metadata": {
    "code_folding": [
     3
    ]
   },
   "outputs": [],
   "source": [
    "# This code defines a time-saving command, that checks to see if the needed libraries are already installed and\n",
    "# installs them only if they're missing. The `install_if_missing,` command will be used below.\n",
    "\n",
    "install_if_missing <- function(packages) {\n",
    "    if (length(setdiff(packages, rownames(installed.packages()))) > 0) {\n",
    "        install.packages(setdiff(packages, rownames(installed.packages())))\n",
    "    }\n",
    "}"
   ]
  },
  {
   "cell_type": "markdown",
   "metadata": {},
   "source": [
    "**If you get a warning in pink after running a code cell**   \n",
    "These warnings are simply standard output from the virtual machine. They give useful information, but are usually not anything that will break the rest of the notebook. Often they refer to versions of libraries or library commands that are masked. Feel free to read through to get a sense of what is going on behind-the-scene. "
   ]
  },
  {
   "cell_type": "markdown",
   "metadata": {},
   "source": [
    "## Generally useful R packages"
   ]
  },
  {
   "cell_type": "code",
   "execution_count": null,
   "metadata": {
    "code_folding": [],
    "scrolled": false
   },
   "outputs": [],
   "source": [
    "# Use the command defined above to install the nine R packages (in parentheses) below \n",
    "install_if_missing(c('tidyverse','viridis', 'ggthemes', 'pryr', 'skimr',\n",
    "                     'testthat', 'reticulate', 'data.table', 'RCurl'))\n",
    "\n",
    "# There may be a warning in pink that says 'lib' is unspecified, which you can ignore. "
   ]
  },
  {
   "cell_type": "markdown",
   "metadata": {},
   "source": [
    "## Leonardo R package"
   ]
  },
  {
   "cell_type": "markdown",
   "metadata": {},
   "source": [
    "Leonardo is a service that provides access to interactive tools like Jupyter, RStudio, and Hail running in the cloud inside the Terra security boundary."
   ]
  },
  {
   "cell_type": "code",
   "execution_count": null,
   "metadata": {
    "code_folding": []
   },
   "outputs": [],
   "source": [
    "# Install the package of libraries that Leonardo needs, which are hosted on github \n",
    "devtools::install_github('DataBiosphere/ronaldo')"
   ]
  },
  {
   "cell_type": "markdown",
   "metadata": {},
   "source": [
    "**Warning note**    \n",
    "Note that after running this cell you may get a warning that reads    \n",
    "\n",
    "`Skipping install of 'Ronaldo' from a github remote, the SHA1 (426459ff) has not changed since last install.     \n",
    "Use 'force = TRUE' to force installation`   \n",
    "\n",
    "**Plain English**   \n",
    "This warning is telling you that this package has already been installed, and to save time, it's skipping this step. The code `force = TRUE` allows you to override this and re-install the package.    \n"
   ]
  },
  {
   "cell_type": "markdown",
   "metadata": {},
   "source": [
    "# Confirm that the R packages loaded properly"
   ]
  },
  {
   "cell_type": "code",
   "execution_count": null,
   "metadata": {
    "code_folding": [
     0
    ]
   },
   "outputs": [],
   "source": [
    "# Warnings that objects are masked between R packages are to be expected and you can ignore them \n",
    "library(viridis)    # A nice color scheme for plots.\n",
    "library(ggthemes)   # Common themes to change the look and feel of plots.\n",
    "library(scales)     # Graphical scales map data to aesthetics in plots.\n",
    "library(testthat)   # Testing functions.\n",
    "library(assertthat) # Assertion functions.\n",
    "library(pryr)       # Memory usage functions.\n",
    "library(skimr)      # Summary statistics for dataframes.\n",
    "library(bigrquery)  # BigQuery R client.\n",
    "library(tidyverse)  # Data wrangling packages.\n",
    "library(reticulate) # Python R client.\n",
    "library(Ronaldo)    # Leonardo R package."
   ]
  },
  {
   "cell_type": "markdown",
   "metadata": {},
   "source": [
    "# Troubleshooting tips and tricks"
   ]
  },
  {
   "cell_type": "markdown",
   "metadata": {},
   "source": [
    "This notebook installs the most recent versions of R packages from [CRAN](https://cran.r-project.org/) and Python packages from [pip](https://pypi.org/project/pip/) on to your VM. Additionally, some packages come from [GitHub](https://github.com/) or [Cloud Source Repositories](https://cloud.google.com/source-repositories/).\n",
    "\n",
    "1. If you encounter any errors, first try restarting the kernel and running all: `Kernel -> Restart & Run All`.\n",
    "1. If an R package still fails to install:\n",
    " - Open a terminal by clicking on the terminal icon next to 'Notebook Runtime' in the upper top right corner of the window\n",
    " - Type `R` to start R in the terminal\n",
    " - Type `install.packages(\"qwraps2\")` to get a more detailed error message. Replace `qwraps2` with the name of which ever package is failing to install.\n",
    "1. If that error message tells you what you need to do to resolve the issue, great! If not, copy and paste the error message into Google Search for more help. "
   ]
  },
  {
   "cell_type": "markdown",
   "metadata": {},
   "source": [
    "# Provenance"
   ]
  },
  {
   "cell_type": "markdown",
   "metadata": {},
   "source": [
    "Provenance is a record of exactly the environment used to run the notebook. It's useful for collaborating, and also helpful when you return to a notebook months after your initial analysis. It's also Best Practices for reproducible research."
   ]
  },
  {
   "cell_type": "code",
   "execution_count": null,
   "metadata": {},
   "outputs": [],
   "source": [
    "# Output all session information\n",
    "devtools::session_info()"
   ]
  },
  {
   "cell_type": "markdown",
   "metadata": {},
   "source": [
    "Copyright 2019 The Broad Institute, Inc., Verily Life Sciences, LLC All rights reserved.\n",
    "\n",
    "This software may be modified and distributed under the terms of the BSD license. See the LICENSE file for details."
   ]
  }
 ],
 "metadata": {
  "kernelspec": {
   "display_name": "R",
   "language": "R",
   "name": "ir"
  },
  "language_info": {
   "codemirror_mode": "r",
   "file_extension": ".r",
   "mimetype": "text/x-r-source",
   "name": "R",
   "pygments_lexer": "r",
   "version": "3.6.2"
  },
  "toc": {
   "base_numbering": 1,
   "nav_menu": {},
   "number_sections": true,
   "sideBar": true,
   "skip_h1_title": false,
   "title_cell": "Table of Contents",
   "title_sidebar": "Contents",
   "toc_cell": false,
   "toc_position": {
    "height": "calc(100% - 180px)",
    "left": "10px",
    "top": "150px",
    "width": "290px"
   },
   "toc_section_display": true,
   "toc_window_display": true
  }
 },
 "nbformat": 4,
 "nbformat_minor": 2
}
